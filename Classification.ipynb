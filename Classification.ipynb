{
  "cells": [
    {
      "cell_type": "markdown",
      "metadata": {
        "id": "TRuSXcRqu-kY"
      },
      "source": [
        "# Importing libraries and data"
      ]
    },
    {
      "cell_type": "code",
      "execution_count": null,
      "metadata": {
        "id": "9mh0fGpZu-kc"
      },
      "outputs": [],
      "source": [
        "#importing libraries\n",
        "import numpy as np\n",
        "import pandas as pd\n",
        "import seaborn as sb\n",
        "import sklearn as sk\n",
        "import matplotlib.pyplot as plt"
      ]
    },
    {
      "cell_type": "markdown",
      "metadata": {
        "id": "FTCeIanLu-ke"
      },
      "source": [
        "## Loading and visualization of the dataset"
      ]
    },
    {
      "cell_type": "code",
      "execution_count": null,
      "metadata": {
        "scrolled": true,
        "id": "qKI-Jlu7u-ke",
        "outputId": "cfafe6af-809e-4eb1-cb4b-76fa00a2c508"
      },
      "outputs": [
        {
          "name": "stdout",
          "output_type": "stream",
          "text": [
            "****** DATASET DIMENSIONS ****** \n",
            " (13741, 12) \n",
            "\n",
            "****** DATSET INFO ******\n",
            "<class 'pandas.core.frame.DataFrame'>\n",
            "RangeIndex: 13741 entries, 0 to 13740\n",
            "Data columns (total 12 columns):\n",
            "age                 13741 non-null int64\n",
            "speciality_years    13741 non-null int64\n",
            "speciality          13741 non-null object\n",
            "wing                13741 non-null object\n",
            "entry_level         13741 non-null object\n",
            "occupation          13741 non-null object\n",
            "intervention        13741 non-null object\n",
            "ethnicity           13741 non-null object\n",
            " sex                13741 non-null object\n",
            "hours               13741 non-null int64\n",
            "country             13741 non-null object\n",
            "target              13741 non-null int64\n",
            "dtypes: int64(4), object(8)\n",
            "memory usage: 1.3+ MB\n",
            "None \n",
            "\n"
          ]
        },
        {
          "data": {
            "text/html": [
              "<div>\n",
              "<style scoped>\n",
              "    .dataframe tbody tr th:only-of-type {\n",
              "        vertical-align: middle;\n",
              "    }\n",
              "\n",
              "    .dataframe tbody tr th {\n",
              "        vertical-align: top;\n",
              "    }\n",
              "\n",
              "    .dataframe thead th {\n",
              "        text-align: right;\n",
              "    }\n",
              "</style>\n",
              "<table border=\"1\" class=\"dataframe\">\n",
              "  <thead>\n",
              "    <tr style=\"text-align: right;\">\n",
              "      <th></th>\n",
              "      <th>age</th>\n",
              "      <th>speciality_years</th>\n",
              "      <th>speciality</th>\n",
              "      <th>wing</th>\n",
              "      <th>entry_level</th>\n",
              "      <th>occupation</th>\n",
              "      <th>intervention</th>\n",
              "      <th>ethnicity</th>\n",
              "      <th>sex</th>\n",
              "      <th>hours</th>\n",
              "      <th>country</th>\n",
              "      <th>target</th>\n",
              "    </tr>\n",
              "  </thead>\n",
              "  <tbody>\n",
              "    <tr>\n",
              "      <td>0</td>\n",
              "      <td>34</td>\n",
              "      <td>2</td>\n",
              "      <td>Cardiology</td>\n",
              "      <td>W</td>\n",
              "      <td>minor-medium</td>\n",
              "      <td>ER doctors</td>\n",
              "      <td>Therapeutic</td>\n",
              "      <td>White</td>\n",
              "      <td>Male</td>\n",
              "      <td>44</td>\n",
              "      <td>Mexico</td>\n",
              "      <td>0</td>\n",
              "    </tr>\n",
              "    <tr>\n",
              "      <td>1</td>\n",
              "      <td>59</td>\n",
              "      <td>12</td>\n",
              "      <td>Emergency</td>\n",
              "      <td>W</td>\n",
              "      <td>minor-medium</td>\n",
              "      <td>Therapist</td>\n",
              "      <td>Therapeutic</td>\n",
              "      <td>White</td>\n",
              "      <td>Male</td>\n",
              "      <td>55</td>\n",
              "      <td>United-States</td>\n",
              "      <td>1</td>\n",
              "    </tr>\n",
              "    <tr>\n",
              "      <td>2</td>\n",
              "      <td>64</td>\n",
              "      <td>10</td>\n",
              "      <td>Psychiatry</td>\n",
              "      <td>S</td>\n",
              "      <td>medium-high</td>\n",
              "      <td>Patient</td>\n",
              "      <td>Other</td>\n",
              "      <td>Black</td>\n",
              "      <td>Male</td>\n",
              "      <td>44</td>\n",
              "      <td>United-States</td>\n",
              "      <td>0</td>\n",
              "    </tr>\n",
              "    <tr>\n",
              "      <td>3</td>\n",
              "      <td>61</td>\n",
              "      <td>12</td>\n",
              "      <td>Emergency</td>\n",
              "      <td>W</td>\n",
              "      <td>minor-medium</td>\n",
              "      <td>Patient</td>\n",
              "      <td>Therapeutic</td>\n",
              "      <td>Black</td>\n",
              "      <td>Male</td>\n",
              "      <td>55</td>\n",
              "      <td>United-States</td>\n",
              "      <td>1</td>\n",
              "    </tr>\n",
              "    <tr>\n",
              "      <td>4</td>\n",
              "      <td>33</td>\n",
              "      <td>10</td>\n",
              "      <td>Psychiatry</td>\n",
              "      <td>W</td>\n",
              "      <td>minor-medium</td>\n",
              "      <td>Surgeons</td>\n",
              "      <td>Therapeutic</td>\n",
              "      <td>White</td>\n",
              "      <td>Male</td>\n",
              "      <td>77</td>\n",
              "      <td>United-States</td>\n",
              "      <td>1</td>\n",
              "    </tr>\n",
              "  </tbody>\n",
              "</table>\n",
              "</div>"
            ],
            "text/plain": [
              "   age  speciality_years  speciality wing   entry_level  occupation  \\\n",
              "0   34                 2  Cardiology    W  minor-medium  ER doctors   \n",
              "1   59                12   Emergency    W  minor-medium   Therapist   \n",
              "2   64                10  Psychiatry    S   medium-high     Patient   \n",
              "3   61                12   Emergency    W  minor-medium     Patient   \n",
              "4   33                10  Psychiatry    W  minor-medium    Surgeons   \n",
              "\n",
              "  intervention ethnicity    sex  hours         country  target  \n",
              "0  Therapeutic     White   Male     44          Mexico       0  \n",
              "1  Therapeutic     White   Male     55   United-States       1  \n",
              "2        Other     Black   Male     44   United-States       0  \n",
              "3  Therapeutic     Black   Male     55   United-States       1  \n",
              "4  Therapeutic     White   Male     77   United-States       1  "
            ]
          },
          "metadata": {},
          "output_type": "display_data"
        }
      ],
      "source": [
        "#import the csv file as a dataset \n",
        "dataframe=pd.read_csv(\"train.csv\", sep=',')\n",
        "\n",
        "#printing basic information about the dataset\n",
        "print('****** DATASET DIMENSIONS ****** \\n', dataframe.shape, '\\n')\n",
        "print('****** DATSET INFO ******')\n",
        "print(dataframe.info(verbose=True), '\\n')\n",
        "\n",
        "display(dataframe.head())"
      ]
    },
    {
      "cell_type": "code",
      "execution_count": null,
      "metadata": {
        "id": "9fwpYEGDu-kf",
        "outputId": "8d971480-fb7c-4c11-951f-b2f3a4f9292e"
      },
      "outputs": [
        {
          "data": {
            "text/plain": [
              "<Figure size 432x288 with 0 Axes>"
            ]
          },
          "execution_count": 3,
          "metadata": {},
          "output_type": "execute_result"
        },
        {
          "data": {
            "image/png": "[encoded data removed]",
            "text/plain": [
              "<Figure size 720x1080 with 4 Axes>"
            ]
          },
          "metadata": {
            "needs_background": "light"
          },
          "output_type": "display_data"
        },
        {
          "data": {
            "text/plain": [
              "<Figure size 432x288 with 0 Axes>"
            ]
          },
          "metadata": {},
          "output_type": "display_data"
        }
      ],
      "source": [
        "dataframe.hist(figsize=(10,15))\n",
        "plt.figure()"
      ]
    },
    {
      "cell_type": "markdown",
      "metadata": {
        "id": "nvFpY3upu-kg"
      },
      "source": [
        "## Graphical Analysis"
      ]
    },
    {
      "cell_type": "code",
      "execution_count": null,
      "metadata": {
        "id": "ysQskqMGu-kg",
        "outputId": "b04e7964-6778-4766-da80-c15451e4a83b"
      },
      "outputs": [
        {
          "data": {
            "image/png": "[encoded data removed]",
            "text/plain": [
              "<Figure size 2880x720 with 1 Axes>"
            ]
          },
          "metadata": {
            "needs_background": "light"
          },
          "output_type": "display_data"
        }
      ],
      "source": [
        "plt.figure(figsize=(40,10))\n",
        "plt.rc('xtick', labelsize=20)\n",
        "plt.rc('ytick', labelsize=20)\n",
        "plt.rc('legend', fontsize=20)\n",
        "plt.rc('axes', labelsize=25)\n",
        "sb.countplot('ethnicity' ,hue='target',data=dataframe)\n",
        "plt.show()"
      ]
    },
    {
      "cell_type": "code",
      "execution_count": null,
      "metadata": {
        "id": "y4lxqNoDu-kh",
        "outputId": "a283a691-207c-4879-f19e-e4c2478e7650"
      },
      "outputs": [
        {
          "data": {
            "image/png": "[encoded data removed]",
            "text/plain": [
              "<Figure size 432x288 with 1 Axes>"
            ]
          },
          "metadata": {
            "needs_background": "light"
          },
          "output_type": "display_data"
        }
      ],
      "source": [
        "sb.countplot(' sex',hue='target',data=dataframe)\n",
        "plt.title('Infection related to sex')\n",
        "plt.show()"
      ]
    },
    {
      "cell_type": "code",
      "execution_count": null,
      "metadata": {
        "id": "4OVzCY5Vu-ki",
        "outputId": "649eb33b-95bc-48fe-ddcd-9dc8bb6a49da"
      },
      "outputs": [
        {
          "data": {
            "image/png": "[encoded data removed]",
            "text/plain": [
              "<Figure size 432x288 with 1 Axes>"
            ]
          },
          "metadata": {
            "needs_background": "light"
          },
          "output_type": "display_data"
        }
      ],
      "source": [
        "sb.countplot('wing',hue='target',data=dataframe)\n",
        "plt.title('Infection related to hospital wing')\n",
        "plt.show()"
      ]
    },
    {
      "cell_type": "markdown",
      "metadata": {
        "id": "8JKL5d5xu-ki"
      },
      "source": [
        "## Detection of missing values"
      ]
    },
    {
      "cell_type": "code",
      "execution_count": null,
      "metadata": {
        "id": "-7FrqLb1u-kj",
        "outputId": "059919df-dde1-4cf9-9008-17cec12ed8eb"
      },
      "outputs": [
        {
          "name": "stdout",
          "output_type": "stream",
          "text": [
            "Total number of NaN elements:  0\n"
          ]
        },
        {
          "data": {
            "text/plain": [
              "age                 0\n",
              "speciality_years    0\n",
              "speciality          0\n",
              "wing                0\n",
              "entry_level         0\n",
              "occupation          0\n",
              "intervention        0\n",
              "ethnicity           0\n",
              " sex                0\n",
              "hours               0\n",
              "country             0\n",
              "target              0\n",
              "dtype: int64"
            ]
          },
          "execution_count": 7,
          "metadata": {},
          "output_type": "execute_result"
        }
      ],
      "source": [
        "#looking for NaN values\n",
        "tot_nan=dataframe.isna().values.sum()\n",
        "print('Total number of NaN elements: ', tot_nan)\n",
        "dataframe.isna().sum()"
      ]
    },
    {
      "cell_type": "code",
      "execution_count": null,
      "metadata": {
        "id": "jK4bSlHnu-kj",
        "outputId": "ed3794f9-dd43-490b-d68d-d665b014e9c7"
      },
      "outputs": [
        {
          "name": "stdout",
          "output_type": "stream",
          "text": [
            "Is there any missing data [T/F]:\n",
            " age                 False\n",
            "speciality_years    False\n",
            "speciality          False\n",
            "wing                 True\n",
            "entry_level         False\n",
            "occupation           True\n",
            "intervention        False\n",
            "ethnicity           False\n",
            " sex                False\n",
            "hours               False\n",
            "country              True\n",
            "target              False\n",
            "dtype: bool\n"
          ]
        },
        {
          "name": "stderr",
          "output_type": "stream",
          "text": [
            "C:\\Users\\Martina\\Anaconda3\\lib\\site-packages\\pandas\\core\\ops\\__init__.py:1115: FutureWarning: elementwise comparison failed; returning scalar instead, but in the future will perform elementwise comparison\n",
            "  result = method(y)\n"
          ]
        }
      ],
      "source": [
        "#looking for ' ?' values in the datase\n",
        "print('Is there any missing data [T/F]:\\n', (dataframe[:]==' ?').any())"
      ]
    },
    {
      "cell_type": "code",
      "execution_count": null,
      "metadata": {
        "id": "pGWYgHVMu-kk"
      },
      "outputs": [],
      "source": [
        "#substitute ' ?' values with NaN\n",
        "missing_values = [\" ?\"]\n",
        "dataframe = pd.read_csv(\"train.csv\", na_values = missing_values)"
      ]
    },
    {
      "cell_type": "code",
      "execution_count": null,
      "metadata": {
        "id": "CVR36BJju-kk",
        "outputId": "12a41d92-7501-45d9-d92b-ddd28b6adbb4"
      },
      "outputs": [
        {
          "name": "stdout",
          "output_type": "stream",
          "text": [
            "Total number of NaN elements:  1661\n",
            "NaN values constitute  1.0073260073260073 % of data\n"
          ]
        }
      ],
      "source": [
        "#now missing values appear as NaN\n",
        "tot_nan=dataframe.isna().values.sum()\n",
        "print('Total number of NaN elements: ', tot_nan)\n",
        "dataframe.isna().sum()\n",
        "\n",
        "#% of NaN values \n",
        "print('NaN values constitute ', (tot_nan/(dataframe.shape[0]*dataframe.shape[1])*100), '% of data')"
      ]
    },
    {
      "cell_type": "code",
      "execution_count": null,
      "metadata": {
        "id": "9cYYp-YLu-kk"
      },
      "outputs": [],
      "source": [
        "#dropping NaN values from the dataset\n",
        "dataframe = dataframe.dropna() #drop all the rows with NaN elements\n",
        "dataframe = dataframe.reset_index(drop=True) #reset the dataframe row indices"
      ]
    },
    {
      "cell_type": "code",
      "execution_count": null,
      "metadata": {
        "id": "AkDxEni8u-kk",
        "outputId": "75d17eb3-0eac-49d5-e682-09098df1dfed"
      },
      "outputs": [
        {
          "name": "stdout",
          "output_type": "stream",
          "text": [
            "Total number of NaN:  0\n"
          ]
        },
        {
          "data": {
            "text/plain": [
              "(12800, 12)"
            ]
          },
          "execution_count": 12,
          "metadata": {},
          "output_type": "execute_result"
        }
      ],
      "source": [
        "#check if all NaN values have been dropped\n",
        "print('Total number of NaN: ', dataframe.isnull().values.sum())\n",
        "dataframe.shape"
      ]
    },
    {
      "cell_type": "markdown",
      "metadata": {
        "id": "48AvpBPSu-kl"
      },
      "source": [
        "## Inspecting correlation between columns"
      ]
    },
    {
      "cell_type": "code",
      "execution_count": null,
      "metadata": {
        "id": "TCUzioeNu-kl",
        "outputId": "a7ce4261-0bb8-45c9-bbe7-969e1ed0d1f8"
      },
      "outputs": [
        {
          "name": "stdout",
          "output_type": "stream",
          "text": [
            "Unique specialities:  ['Cardiology' 'Emergency' 'Psychiatry' 'Opthalmology' 'Gastroenterology'\n",
            " 'Anaesthesiology' 'Orthopedic' 'Pulmonary' 'Nephrology' 'Pediatrics'\n",
            " 'Neurosciences' 'Gynecology/Urology' 'Endocrinology' 'Oncology'\n",
            " 'Radiology' 'Aesthetic'] \n",
            "\n",
            "Unique speciality years :  [ 2 12 10 13  9  3  8 15  7 16 18 14 19  4  6  1]\n"
          ]
        }
      ],
      "source": [
        "spec=dataframe['speciality'].unique()\n",
        "spec_year=dataframe['speciality_years'].unique()\n",
        "print('Unique specialities: ', spec,'\\n\\nUnique speciality years : ', spec_year)"
      ]
    },
    {
      "cell_type": "code",
      "execution_count": null,
      "metadata": {
        "id": "zM1VWHYqu-kl",
        "outputId": "4db635ec-3ea5-4573-c91e-bd2daa6d066d"
      },
      "outputs": [
        {
          "data": {
            "image/png": "[encoded data removed]",
            "text/plain": [
              "<Figure size 432x288 with 1 Axes>"
            ]
          },
          "metadata": {
            "needs_background": "light"
          },
          "output_type": "display_data"
        }
      ],
      "source": [
        "%matplotlib inline\n",
        "plt.grid()\n",
        "#scatter plot to highlight the one to one correspondance between speciality years and speciality\n",
        "sb.scatterplot(x='speciality', y='speciality_years', alpha=.3, data=dataframe)\n",
        "plt.show()"
      ]
    },
    {
      "cell_type": "code",
      "execution_count": null,
      "metadata": {
        "id": "oLj8hdfmu-km",
        "outputId": "58faba50-8676-4089-9093-f11d21f5d4a9"
      },
      "outputs": [
        {
          "data": {
            "text/html": [
              "<div>\n",
              "<style scoped>\n",
              "    .dataframe tbody tr th:only-of-type {\n",
              "        vertical-align: middle;\n",
              "    }\n",
              "\n",
              "    .dataframe tbody tr th {\n",
              "        vertical-align: top;\n",
              "    }\n",
              "\n",
              "    .dataframe thead th {\n",
              "        text-align: right;\n",
              "    }\n",
              "</style>\n",
              "<table border=\"1\" class=\"dataframe\">\n",
              "  <thead>\n",
              "    <tr style=\"text-align: right;\">\n",
              "      <th></th>\n",
              "      <th>speciality_years</th>\n",
              "    </tr>\n",
              "    <tr>\n",
              "      <th>speciality</th>\n",
              "      <th></th>\n",
              "    </tr>\n",
              "  </thead>\n",
              "  <tbody>\n",
              "    <tr>\n",
              "      <td>Aesthetic</td>\n",
              "      <td>1</td>\n",
              "    </tr>\n",
              "    <tr>\n",
              "      <td>Anaesthesiology</td>\n",
              "      <td>3</td>\n",
              "    </tr>\n",
              "    <tr>\n",
              "      <td>Cardiology</td>\n",
              "      <td>2</td>\n",
              "    </tr>\n",
              "    <tr>\n",
              "      <td>Emergency</td>\n",
              "      <td>12</td>\n",
              "    </tr>\n",
              "    <tr>\n",
              "      <td>Endocrinology</td>\n",
              "      <td>19</td>\n",
              "    </tr>\n",
              "    <tr>\n",
              "      <td>Gastroenterology</td>\n",
              "      <td>9</td>\n",
              "    </tr>\n",
              "    <tr>\n",
              "      <td>Gynecology/Urology</td>\n",
              "      <td>14</td>\n",
              "    </tr>\n",
              "    <tr>\n",
              "      <td>Nephrology</td>\n",
              "      <td>7</td>\n",
              "    </tr>\n",
              "    <tr>\n",
              "      <td>Neurosciences</td>\n",
              "      <td>18</td>\n",
              "    </tr>\n",
              "    <tr>\n",
              "      <td>Oncology</td>\n",
              "      <td>4</td>\n",
              "    </tr>\n",
              "    <tr>\n",
              "      <td>Opthalmology</td>\n",
              "      <td>13</td>\n",
              "    </tr>\n",
              "    <tr>\n",
              "      <td>Orthopedic</td>\n",
              "      <td>8</td>\n",
              "    </tr>\n",
              "    <tr>\n",
              "      <td>Pediatrics</td>\n",
              "      <td>16</td>\n",
              "    </tr>\n",
              "    <tr>\n",
              "      <td>Psychiatry</td>\n",
              "      <td>10</td>\n",
              "    </tr>\n",
              "    <tr>\n",
              "      <td>Pulmonary</td>\n",
              "      <td>15</td>\n",
              "    </tr>\n",
              "    <tr>\n",
              "      <td>Radiology</td>\n",
              "      <td>6</td>\n",
              "    </tr>\n",
              "  </tbody>\n",
              "</table>\n",
              "</div>"
            ],
            "text/plain": [
              "                    speciality_years\n",
              "speciality                          \n",
              "Aesthetic                          1\n",
              "Anaesthesiology                    3\n",
              "Cardiology                         2\n",
              "Emergency                         12\n",
              "Endocrinology                     19\n",
              "Gastroenterology                   9\n",
              "Gynecology/Urology                14\n",
              "Nephrology                         7\n",
              "Neurosciences                     18\n",
              "Oncology                           4\n",
              "Opthalmology                      13\n",
              "Orthopedic                         8\n",
              "Pediatrics                        16\n",
              "Psychiatry                        10\n",
              "Pulmonary                         15\n",
              "Radiology                          6"
            ]
          },
          "metadata": {},
          "output_type": "display_data"
        }
      ],
      "source": [
        "#pivot table\n",
        "display(pd.pivot_table(dataframe,index=[\"speciality\"],values=[\"speciality_years\"]))"
      ]
    },
    {
      "cell_type": "code",
      "execution_count": null,
      "metadata": {
        "id": "iDRoVhWvu-km"
      },
      "outputs": [],
      "source": [
        "#dropping the column of the ategorical attribute speciality\n",
        "dataframe.drop('speciality', axis=1, inplace=True)"
      ]
    },
    {
      "cell_type": "code",
      "execution_count": null,
      "metadata": {
        "id": "S80Q1bSeu-km",
        "outputId": "bc7087ce-3756-41c1-e1e2-2d62f19c1070"
      },
      "outputs": [
        {
          "data": {
            "text/html": [
              "<div>\n",
              "<style scoped>\n",
              "    .dataframe tbody tr th:only-of-type {\n",
              "        vertical-align: middle;\n",
              "    }\n",
              "\n",
              "    .dataframe tbody tr th {\n",
              "        vertical-align: top;\n",
              "    }\n",
              "\n",
              "    .dataframe thead th {\n",
              "        text-align: right;\n",
              "    }\n",
              "</style>\n",
              "<table border=\"1\" class=\"dataframe\">\n",
              "  <thead>\n",
              "    <tr style=\"text-align: right;\">\n",
              "      <th></th>\n",
              "      <th>age</th>\n",
              "      <th>speciality_years</th>\n",
              "      <th>wing</th>\n",
              "      <th>entry_level</th>\n",
              "      <th>occupation</th>\n",
              "      <th>intervention</th>\n",
              "      <th>ethnicity</th>\n",
              "      <th>sex</th>\n",
              "      <th>hours</th>\n",
              "      <th>country</th>\n",
              "      <th>target</th>\n",
              "    </tr>\n",
              "  </thead>\n",
              "  <tbody>\n",
              "    <tr>\n",
              "      <td>0</td>\n",
              "      <td>34</td>\n",
              "      <td>2</td>\n",
              "      <td>W</td>\n",
              "      <td>minor-medium</td>\n",
              "      <td>ER doctors</td>\n",
              "      <td>Therapeutic</td>\n",
              "      <td>White</td>\n",
              "      <td>Male</td>\n",
              "      <td>44</td>\n",
              "      <td>Mexico</td>\n",
              "      <td>0</td>\n",
              "    </tr>\n",
              "    <tr>\n",
              "      <td>1</td>\n",
              "      <td>59</td>\n",
              "      <td>12</td>\n",
              "      <td>W</td>\n",
              "      <td>minor-medium</td>\n",
              "      <td>Therapist</td>\n",
              "      <td>Therapeutic</td>\n",
              "      <td>White</td>\n",
              "      <td>Male</td>\n",
              "      <td>55</td>\n",
              "      <td>United-States</td>\n",
              "      <td>1</td>\n",
              "    </tr>\n",
              "    <tr>\n",
              "      <td>2</td>\n",
              "      <td>64</td>\n",
              "      <td>10</td>\n",
              "      <td>S</td>\n",
              "      <td>medium-high</td>\n",
              "      <td>Patient</td>\n",
              "      <td>Other</td>\n",
              "      <td>Black</td>\n",
              "      <td>Male</td>\n",
              "      <td>44</td>\n",
              "      <td>United-States</td>\n",
              "      <td>0</td>\n",
              "    </tr>\n",
              "    <tr>\n",
              "      <td>3</td>\n",
              "      <td>61</td>\n",
              "      <td>12</td>\n",
              "      <td>W</td>\n",
              "      <td>minor-medium</td>\n",
              "      <td>Patient</td>\n",
              "      <td>Therapeutic</td>\n",
              "      <td>Black</td>\n",
              "      <td>Male</td>\n",
              "      <td>55</td>\n",
              "      <td>United-States</td>\n",
              "      <td>1</td>\n",
              "    </tr>\n",
              "    <tr>\n",
              "      <td>4</td>\n",
              "      <td>33</td>\n",
              "      <td>10</td>\n",
              "      <td>W</td>\n",
              "      <td>minor-medium</td>\n",
              "      <td>Surgeons</td>\n",
              "      <td>Therapeutic</td>\n",
              "      <td>White</td>\n",
              "      <td>Male</td>\n",
              "      <td>77</td>\n",
              "      <td>United-States</td>\n",
              "      <td>1</td>\n",
              "    </tr>\n",
              "  </tbody>\n",
              "</table>\n",
              "</div>"
            ],
            "text/plain": [
              "   age  speciality_years wing   entry_level  occupation intervention  \\\n",
              "0   34                 2    W  minor-medium  ER doctors  Therapeutic   \n",
              "1   59                12    W  minor-medium   Therapist  Therapeutic   \n",
              "2   64                10    S   medium-high     Patient        Other   \n",
              "3   61                12    W  minor-medium     Patient  Therapeutic   \n",
              "4   33                10    W  minor-medium    Surgeons  Therapeutic   \n",
              "\n",
              "  ethnicity    sex  hours         country  target  \n",
              "0     White   Male     44          Mexico       0  \n",
              "1     White   Male     55   United-States       1  \n",
              "2     Black   Male     44   United-States       0  \n",
              "3     Black   Male     55   United-States       1  \n",
              "4     White   Male     77   United-States       1  "
            ]
          },
          "execution_count": 17,
          "metadata": {},
          "output_type": "execute_result"
        }
      ],
      "source": [
        "dataframe.head()"
      ]
    },
    {
      "cell_type": "markdown",
      "metadata": {
        "id": "MsngcP-6u-kn"
      },
      "source": [
        "## Dataframe statistical description"
      ]
    },
    {
      "cell_type": "code",
      "execution_count": null,
      "metadata": {
        "id": "HgTm6ji-u-kn",
        "outputId": "451edb35-1062-4577-ec38-30df130cdebd"
      },
      "outputs": [
        {
          "name": "stdout",
          "output_type": "stream",
          "text": [
            "****** Statistical descritption ****** \n",
            "                 age  speciality_years        hours        target\n",
            "count  12800.000000      12800.000000  12800.00000  12800.000000\n",
            "mean      43.109687         12.082187     46.00125      0.411094\n",
            "std       14.015144          3.129214     13.06374      0.492051\n",
            "min       18.000000          1.000000      1.00000      0.000000\n",
            "25%       33.000000         10.000000     44.00000      0.000000\n",
            "50%       42.000000         12.000000     44.00000      0.000000\n",
            "75%       52.000000         15.000000     52.00000      1.000000\n",
            "max       99.000000         19.000000    108.00000      1.000000 \n",
            "\n"
          ]
        }
      ],
      "source": [
        "print('****** Statistical descritption ****** \\n',dataframe.describe(), '\\n')"
      ]
    },
    {
      "cell_type": "markdown",
      "metadata": {
        "id": "1C9hgduKu-kn"
      },
      "source": [
        "## Target class count"
      ]
    },
    {
      "cell_type": "code",
      "execution_count": null,
      "metadata": {
        "id": "uB7pXSFuu-kn",
        "outputId": "e6d0178f-1263-4f97-e146-6df743bf3965"
      },
      "outputs": [
        {
          "data": {
            "text/plain": [
              "target\n",
              "0    7538\n",
              "1    5262\n",
              "dtype: int64"
            ]
          },
          "metadata": {},
          "output_type": "display_data"
        },
        {
          "name": "stdout",
          "output_type": "stream",
          "text": [
            "% of 0 : 58.890625 \n",
            "% of 1 :  41.109375\n"
          ]
        }
      ],
      "source": [
        "display(dataframe.groupby('target').size())\n",
        "\n",
        "perc_zero=(dataframe.groupby('target').size()[0])/(dataframe.shape[0])*100\n",
        "perc_ones=(dataframe.groupby('target').size()[1])/(dataframe.shape[0])*100\n",
        "print('% of 0 :', perc_zero, '\\n% of 1 : ', perc_ones)"
      ]
    },
    {
      "cell_type": "code",
      "execution_count": null,
      "metadata": {
        "id": "CBVu5rPKu-kn",
        "outputId": "aac9bf3a-6552-4373-eeaa-cb8c84874239"
      },
      "outputs": [
        {
          "data": {
            "image/png": "[encoded data removed]",
            "text/plain": [
              "<Figure size 432x288 with 1 Axes>"
            ]
          },
          "metadata": {
            "needs_background": "light"
          },
          "output_type": "display_data"
        }
      ],
      "source": [
        "#countplot with seaborn library of the total number of observation with target '1' and observation with target '0'\n",
        "sb.countplot(y=dataframe.target ,data=dataframe)\n",
        "plt.xlabel(\"Count\")\n",
        "plt.ylabel(\"Target\")\n",
        "plt.show()"
      ]
    },
    {
      "cell_type": "markdown",
      "metadata": {
        "id": "Kvecd6w5u-ko"
      },
      "source": [
        "## Indexing and division of dataframe"
      ]
    },
    {
      "cell_type": "code",
      "execution_count": null,
      "metadata": {
        "id": "slmOWIkUu-ko"
      },
      "outputs": [],
      "source": [
        "#subdivision of the dataframe in explanatory variables and target classes\n",
        "X=dataframe.iloc[:,:-1] #explanatory variables\n",
        "y=dataframe.iloc[:,-1] #target classes\n",
        "\n",
        "col=X.columns #columns indexes\n",
        "row=X.index #row indexes"
      ]
    },
    {
      "cell_type": "code",
      "execution_count": null,
      "metadata": {
        "id": "LU4Y20Qpu-ko",
        "outputId": "e2425f93-2ecf-44ae-e0d1-b681f32653f4"
      },
      "outputs": [
        {
          "data": {
            "text/html": [
              "<div>\n",
              "<style scoped>\n",
              "    .dataframe tbody tr th:only-of-type {\n",
              "        vertical-align: middle;\n",
              "    }\n",
              "\n",
              "    .dataframe tbody tr th {\n",
              "        vertical-align: top;\n",
              "    }\n",
              "\n",
              "    .dataframe thead th {\n",
              "        text-align: right;\n",
              "    }\n",
              "</style>\n",
              "<table border=\"1\" class=\"dataframe\">\n",
              "  <thead>\n",
              "    <tr style=\"text-align: right;\">\n",
              "      <th></th>\n",
              "      <th>age</th>\n",
              "      <th>speciality_years</th>\n",
              "      <th>wing</th>\n",
              "      <th>entry_level</th>\n",
              "      <th>occupation</th>\n",
              "      <th>intervention</th>\n",
              "      <th>ethnicity</th>\n",
              "      <th>sex</th>\n",
              "      <th>hours</th>\n",
              "      <th>country</th>\n",
              "    </tr>\n",
              "  </thead>\n",
              "  <tbody>\n",
              "    <tr>\n",
              "      <td>0</td>\n",
              "      <td>34</td>\n",
              "      <td>2</td>\n",
              "      <td>W</td>\n",
              "      <td>minor-medium</td>\n",
              "      <td>ER doctors</td>\n",
              "      <td>Therapeutic</td>\n",
              "      <td>White</td>\n",
              "      <td>Male</td>\n",
              "      <td>44</td>\n",
              "      <td>Mexico</td>\n",
              "    </tr>\n",
              "    <tr>\n",
              "      <td>1</td>\n",
              "      <td>59</td>\n",
              "      <td>12</td>\n",
              "      <td>W</td>\n",
              "      <td>minor-medium</td>\n",
              "      <td>Therapist</td>\n",
              "      <td>Therapeutic</td>\n",
              "      <td>White</td>\n",
              "      <td>Male</td>\n",
              "      <td>55</td>\n",
              "      <td>United-States</td>\n",
              "    </tr>\n",
              "    <tr>\n",
              "      <td>2</td>\n",
              "      <td>64</td>\n",
              "      <td>10</td>\n",
              "      <td>S</td>\n",
              "      <td>medium-high</td>\n",
              "      <td>Patient</td>\n",
              "      <td>Other</td>\n",
              "      <td>Black</td>\n",
              "      <td>Male</td>\n",
              "      <td>44</td>\n",
              "      <td>United-States</td>\n",
              "    </tr>\n",
              "    <tr>\n",
              "      <td>3</td>\n",
              "      <td>61</td>\n",
              "      <td>12</td>\n",
              "      <td>W</td>\n",
              "      <td>minor-medium</td>\n",
              "      <td>Patient</td>\n",
              "      <td>Therapeutic</td>\n",
              "      <td>Black</td>\n",
              "      <td>Male</td>\n",
              "      <td>55</td>\n",
              "      <td>United-States</td>\n",
              "    </tr>\n",
              "    <tr>\n",
              "      <td>4</td>\n",
              "      <td>33</td>\n",
              "      <td>10</td>\n",
              "      <td>W</td>\n",
              "      <td>minor-medium</td>\n",
              "      <td>Surgeons</td>\n",
              "      <td>Therapeutic</td>\n",
              "      <td>White</td>\n",
              "      <td>Male</td>\n",
              "      <td>77</td>\n",
              "      <td>United-States</td>\n",
              "    </tr>\n",
              "  </tbody>\n",
              "</table>\n",
              "</div>"
            ],
            "text/plain": [
              "   age  speciality_years wing   entry_level  occupation intervention  \\\n",
              "0   34                 2    W  minor-medium  ER doctors  Therapeutic   \n",
              "1   59                12    W  minor-medium   Therapist  Therapeutic   \n",
              "2   64                10    S   medium-high     Patient        Other   \n",
              "3   61                12    W  minor-medium     Patient  Therapeutic   \n",
              "4   33                10    W  minor-medium    Surgeons  Therapeutic   \n",
              "\n",
              "  ethnicity    sex  hours         country  \n",
              "0     White   Male     44          Mexico  \n",
              "1     White   Male     55   United-States  \n",
              "2     Black   Male     44   United-States  \n",
              "3     Black   Male     55   United-States  \n",
              "4     White   Male     77   United-States  "
            ]
          },
          "metadata": {},
          "output_type": "display_data"
        },
        {
          "data": {
            "text/plain": [
              "0        0\n",
              "1        1\n",
              "2        0\n",
              "3        1\n",
              "4        1\n",
              "        ..\n",
              "12795    0\n",
              "12796    1\n",
              "12797    0\n",
              "12798    0\n",
              "12799    1\n",
              "Name: target, Length: 12800, dtype: int64"
            ]
          },
          "metadata": {},
          "output_type": "display_data"
        }
      ],
      "source": [
        "display(X.head(),y)"
      ]
    },
    {
      "cell_type": "markdown",
      "metadata": {
        "id": "UDpn-np1u-ko"
      },
      "source": [
        "## From categorical to numerical variables"
      ]
    },
    {
      "cell_type": "code",
      "execution_count": null,
      "metadata": {
        "id": "PwrEZ-fvu-ko",
        "outputId": "0dcf1f88-3002-4ff4-ef56-c7968157af2d"
      },
      "outputs": [
        {
          "data": {
            "text/plain": [
              "age                  int64\n",
              "speciality_years     int64\n",
              "wing                object\n",
              "entry_level         object\n",
              "occupation          object\n",
              "intervention        object\n",
              "ethnicity           object\n",
              " sex                object\n",
              "hours                int64\n",
              "country             object\n",
              "dtype: object"
            ]
          },
          "execution_count": 23,
          "metadata": {},
          "output_type": "execute_result"
        }
      ],
      "source": [
        "#overview of the different data types\n",
        "X.dtypes"
      ]
    },
    {
      "cell_type": "code",
      "execution_count": null,
      "metadata": {
        "id": "_q_44zS9u-ko",
        "outputId": "65e22e52-0e7c-4738-cd9d-0b750977a5e4"
      },
      "outputs": [
        {
          "name": "stdout",
          "output_type": "stream",
          "text": [
            "Index(['wing', 'entry_level', 'occupation', 'intervention', 'ethnicity',\n",
            "       ' sex', 'country'],\n",
            "      dtype='object')\n",
            "Index(['age', 'speciality_years', 'hours'], dtype='object')\n"
          ]
        }
      ],
      "source": [
        "#highlight categorical and numerical data\n",
        "categorical=X.select_dtypes(include=['object']).copy().columns #indexes of categorical values\n",
        "print(categorical)\n",
        "\n",
        "numerical=X.select_dtypes(include=['int64']).copy().columns #indexes of numerical values\n",
        "print(numerical)"
      ]
    },
    {
      "cell_type": "code",
      "execution_count": null,
      "metadata": {
        "scrolled": true,
        "id": "kETYOhNQu-kp",
        "outputId": "45f4a483-cd23-40fa-cd9c-00bc2829f0a5"
      },
      "outputs": [
        {
          "data": {
            "text/html": [
              "<div>\n",
              "<style scoped>\n",
              "    .dataframe tbody tr th:only-of-type {\n",
              "        vertical-align: middle;\n",
              "    }\n",
              "\n",
              "    .dataframe tbody tr th {\n",
              "        vertical-align: top;\n",
              "    }\n",
              "\n",
              "    .dataframe thead th {\n",
              "        text-align: right;\n",
              "    }\n",
              "</style>\n",
              "<table border=\"1\" class=\"dataframe\">\n",
              "  <thead>\n",
              "    <tr style=\"text-align: right;\">\n",
              "      <th></th>\n",
              "      <th>W</th>\n",
              "      <th>SW</th>\n",
              "      <th>S</th>\n",
              "      <th>SE</th>\n",
              "      <th>NW</th>\n",
              "      <th>N</th>\n",
              "      <th>NE</th>\n",
              "    </tr>\n",
              "  </thead>\n",
              "  <tbody>\n",
              "    <tr>\n",
              "      <td>wing</td>\n",
              "      <td>9134</td>\n",
              "      <td>1126</td>\n",
              "      <td>892</td>\n",
              "      <td>600</td>\n",
              "      <td>576</td>\n",
              "      <td>466</td>\n",
              "      <td>6</td>\n",
              "    </tr>\n",
              "  </tbody>\n",
              "</table>\n",
              "</div>"
            ],
            "text/plain": [
              "         W    SW    S   SE   NW    N  NE\n",
              "wing  9134  1126  892  600  576  466   6"
            ]
          },
          "metadata": {},
          "output_type": "display_data"
        },
        {
          "data": {
            "text/html": [
              "<div>\n",
              "<style scoped>\n",
              "    .dataframe tbody tr th:only-of-type {\n",
              "        vertical-align: middle;\n",
              "    }\n",
              "\n",
              "    .dataframe tbody tr th {\n",
              "        vertical-align: top;\n",
              "    }\n",
              "\n",
              "    .dataframe thead th {\n",
              "        text-align: right;\n",
              "    }\n",
              "</style>\n",
              "<table border=\"1\" class=\"dataframe\">\n",
              "  <thead>\n",
              "    <tr style=\"text-align: right;\">\n",
              "      <th></th>\n",
              "      <th>minor-medium</th>\n",
              "      <th>minor</th>\n",
              "      <th>high</th>\n",
              "      <th>medium</th>\n",
              "      <th>medium-high</th>\n",
              "    </tr>\n",
              "  </thead>\n",
              "  <tbody>\n",
              "    <tr>\n",
              "      <td>entry_level</td>\n",
              "      <td>7162</td>\n",
              "      <td>3400</td>\n",
              "      <td>1617</td>\n",
              "      <td>320</td>\n",
              "      <td>301</td>\n",
              "    </tr>\n",
              "  </tbody>\n",
              "</table>\n",
              "</div>"
            ],
            "text/plain": [
              "             minor-medium  minor  high  medium  medium-high\n",
              "entry_level          7162   3400  1617     320          301"
            ]
          },
          "metadata": {},
          "output_type": "display_data"
        },
        {
          "data": {
            "text/html": [
              "<div>\n",
              "<style scoped>\n",
              "    .dataframe tbody tr th:only-of-type {\n",
              "        vertical-align: middle;\n",
              "    }\n",
              "\n",
              "    .dataframe tbody tr th {\n",
              "        vertical-align: top;\n",
              "    }\n",
              "\n",
              "    .dataframe thead th {\n",
              "        text-align: right;\n",
              "    }\n",
              "</style>\n",
              "<table border=\"1\" class=\"dataframe\">\n",
              "  <thead>\n",
              "    <tr style=\"text-align: right;\">\n",
              "      <th></th>\n",
              "      <th>Patient</th>\n",
              "      <th>Dietitian</th>\n",
              "      <th>Therapist</th>\n",
              "      <th>Medical Assistants</th>\n",
              "      <th>Techs</th>\n",
              "      <th>Nurse</th>\n",
              "      <th>Surgeons</th>\n",
              "      <th>ER doctors</th>\n",
              "      <th>Lab</th>\n",
              "      <th>Physician</th>\n",
              "      <th>Gift Shop</th>\n",
              "      <th>Cafeteria</th>\n",
              "      <th>Delivery</th>\n",
              "    </tr>\n",
              "  </thead>\n",
              "  <tbody>\n",
              "    <tr>\n",
              "      <td>occupation</td>\n",
              "      <td>3709</td>\n",
              "      <td>2030</td>\n",
              "      <td>1597</td>\n",
              "      <td>1417</td>\n",
              "      <td>1086</td>\n",
              "      <td>753</td>\n",
              "      <td>615</td>\n",
              "      <td>468</td>\n",
              "      <td>406</td>\n",
              "      <td>373</td>\n",
              "      <td>290</td>\n",
              "      <td>53</td>\n",
              "      <td>3</td>\n",
              "    </tr>\n",
              "  </tbody>\n",
              "</table>\n",
              "</div>"
            ],
            "text/plain": [
              "            Patient  Dietitian  Therapist  Medical Assistants  Techs  Nurse  \\\n",
              "occupation     3709       2030       1597                1417   1086    753   \n",
              "\n",
              "            Surgeons  ER doctors  Lab  Physician  Gift Shop  Cafeteria  \\\n",
              "occupation       615         468  406        373        290         53   \n",
              "\n",
              "            Delivery  \n",
              "occupation         3  "
            ]
          },
          "metadata": {},
          "output_type": "display_data"
        },
        {
          "data": {
            "text/html": [
              "<div>\n",
              "<style scoped>\n",
              "    .dataframe tbody tr th:only-of-type {\n",
              "        vertical-align: middle;\n",
              "    }\n",
              "\n",
              "    .dataframe tbody tr th {\n",
              "        vertical-align: top;\n",
              "    }\n",
              "\n",
              "    .dataframe thead th {\n",
              "        text-align: right;\n",
              "    }\n",
              "</style>\n",
              "<table border=\"1\" class=\"dataframe\">\n",
              "  <thead>\n",
              "    <tr style=\"text-align: right;\">\n",
              "      <th></th>\n",
              "      <th>Therapeutic</th>\n",
              "      <th>Other</th>\n",
              "      <th>Anesthesia</th>\n",
              "      <th>Diagnostic</th>\n",
              "      <th>Surgical</th>\n",
              "      <th>Propaedeutic</th>\n",
              "    </tr>\n",
              "  </thead>\n",
              "  <tbody>\n",
              "    <tr>\n",
              "      <td>intervention</td>\n",
              "      <td>6236</td>\n",
              "      <td>2953</td>\n",
              "      <td>1440</td>\n",
              "      <td>1160</td>\n",
              "      <td>724</td>\n",
              "      <td>287</td>\n",
              "    </tr>\n",
              "  </tbody>\n",
              "</table>\n",
              "</div>"
            ],
            "text/plain": [
              "              Therapeutic  Other  Anesthesia  Diagnostic  Surgical  \\\n",
              "intervention         6236   2953        1440        1160       724   \n",
              "\n",
              "              Propaedeutic  \n",
              "intervention           287  "
            ]
          },
          "metadata": {},
          "output_type": "display_data"
        },
        {
          "data": {
            "text/html": [
              "<div>\n",
              "<style scoped>\n",
              "    .dataframe tbody tr th:only-of-type {\n",
              "        vertical-align: middle;\n",
              "    }\n",
              "\n",
              "    .dataframe tbody tr th {\n",
              "        vertical-align: top;\n",
              "    }\n",
              "\n",
              "    .dataframe thead th {\n",
              "        text-align: right;\n",
              "    }\n",
              "</style>\n",
              "<table border=\"1\" class=\"dataframe\">\n",
              "  <thead>\n",
              "    <tr style=\"text-align: right;\">\n",
              "      <th></th>\n",
              "      <th>White</th>\n",
              "      <th>Black</th>\n",
              "      <th>Asian-Pac-Islander</th>\n",
              "      <th>Amer-Indian-Eskimo</th>\n",
              "      <th>Other</th>\n",
              "    </tr>\n",
              "  </thead>\n",
              "  <tbody>\n",
              "    <tr>\n",
              "      <td>ethnicity</td>\n",
              "      <td>11150</td>\n",
              "      <td>1064</td>\n",
              "      <td>408</td>\n",
              "      <td>108</td>\n",
              "      <td>70</td>\n",
              "    </tr>\n",
              "  </tbody>\n",
              "</table>\n",
              "</div>"
            ],
            "text/plain": [
              "            White   Black   Asian-Pac-Islander   Amer-Indian-Eskimo   Other\n",
              "ethnicity   11150    1064                  408                  108      70"
            ]
          },
          "metadata": {},
          "output_type": "display_data"
        },
        {
          "data": {
            "text/html": [
              "<div>\n",
              "<style scoped>\n",
              "    .dataframe tbody tr th:only-of-type {\n",
              "        vertical-align: middle;\n",
              "    }\n",
              "\n",
              "    .dataframe tbody tr th {\n",
              "        vertical-align: top;\n",
              "    }\n",
              "\n",
              "    .dataframe thead th {\n",
              "        text-align: right;\n",
              "    }\n",
              "</style>\n",
              "<table border=\"1\" class=\"dataframe\">\n",
              "  <thead>\n",
              "    <tr style=\"text-align: right;\">\n",
              "      <th></th>\n",
              "      <th>Male</th>\n",
              "      <th>Female</th>\n",
              "    </tr>\n",
              "  </thead>\n",
              "  <tbody>\n",
              "    <tr>\n",
              "      <td>sex</td>\n",
              "      <td>9134</td>\n",
              "      <td>3666</td>\n",
              "    </tr>\n",
              "  </tbody>\n",
              "</table>\n",
              "</div>"
            ],
            "text/plain": [
              "       Male   Female\n",
              " sex   9134     3666"
            ]
          },
          "metadata": {},
          "output_type": "display_data"
        },
        {
          "data": {
            "text/html": [
              "<div>\n",
              "<style scoped>\n",
              "    .dataframe tbody tr th:only-of-type {\n",
              "        vertical-align: middle;\n",
              "    }\n",
              "\n",
              "    .dataframe tbody tr th {\n",
              "        vertical-align: top;\n",
              "    }\n",
              "\n",
              "    .dataframe thead th {\n",
              "        text-align: right;\n",
              "    }\n",
              "</style>\n",
              "<table border=\"1\" class=\"dataframe\">\n",
              "  <thead>\n",
              "    <tr style=\"text-align: right;\">\n",
              "      <th></th>\n",
              "      <th>United-States</th>\n",
              "      <th>Mexico</th>\n",
              "      <th>Philippines</th>\n",
              "      <th>Germany</th>\n",
              "      <th>India</th>\n",
              "      <th>Canada</th>\n",
              "      <th>Puerto-Rico</th>\n",
              "      <th>England</th>\n",
              "      <th>China</th>\n",
              "      <th>Japan</th>\n",
              "      <th>...</th>\n",
              "      <th>Ecuador</th>\n",
              "      <th>Thailand</th>\n",
              "      <th>Hungary</th>\n",
              "      <th>Trinadad&amp;Tobago</th>\n",
              "      <th>France</th>\n",
              "      <th>Laos</th>\n",
              "      <th>Hong</th>\n",
              "      <th>Honduras</th>\n",
              "      <th>Outlying-US(Guam-USVI-etc)</th>\n",
              "      <th>Scotland</th>\n",
              "    </tr>\n",
              "  </thead>\n",
              "  <tbody>\n",
              "    <tr>\n",
              "      <td>country</td>\n",
              "      <td>11729</td>\n",
              "      <td>209</td>\n",
              "      <td>92</td>\n",
              "      <td>60</td>\n",
              "      <td>49</td>\n",
              "      <td>47</td>\n",
              "      <td>45</td>\n",
              "      <td>39</td>\n",
              "      <td>34</td>\n",
              "      <td>32</td>\n",
              "      <td>...</td>\n",
              "      <td>10</td>\n",
              "      <td>10</td>\n",
              "      <td>8</td>\n",
              "      <td>8</td>\n",
              "      <td>8</td>\n",
              "      <td>7</td>\n",
              "      <td>6</td>\n",
              "      <td>5</td>\n",
              "      <td>3</td>\n",
              "      <td>3</td>\n",
              "    </tr>\n",
              "  </tbody>\n",
              "</table>\n",
              "<p>1 rows × 40 columns</p>\n",
              "</div>"
            ],
            "text/plain": [
              "          United-States   Mexico   Philippines   Germany   India   Canada  \\\n",
              "country           11729      209            92        60      49       47   \n",
              "\n",
              "          Puerto-Rico   England   China   Japan  ...   Ecuador   Thailand  \\\n",
              "country            45        39      34      32  ...        10         10   \n",
              "\n",
              "          Hungary   Trinadad&Tobago   France   Laos   Hong   Honduras  \\\n",
              "country         8                 8        8      7      6          5   \n",
              "\n",
              "          Outlying-US(Guam-USVI-etc)   Scotland  \n",
              "country                            3          3  \n",
              "\n",
              "[1 rows x 40 columns]"
            ]
          },
          "metadata": {},
          "output_type": "display_data"
        }
      ],
      "source": [
        "#exploring categorical data\n",
        "for c in categorical:\n",
        "    display(pd.DataFrame(X[c].value_counts()).transpose())"
      ]
    },
    {
      "cell_type": "code",
      "execution_count": null,
      "metadata": {
        "id": "K_EYAfLXu-kp",
        "outputId": "c2df2ec3-2c99-4a56-9f79-906ee6eec635"
      },
      "outputs": [
        {
          "data": {
            "text/plain": [
              "\"\\nentry_level can be treated as an ordinal categorical variable with the method 'replace'\\nsex will be also encoded with the method 'replace' as Male=0, Female=1\\nother variables will be encoded using OneHotEncoder\\n\""
            ]
          },
          "execution_count": 26,
          "metadata": {},
          "output_type": "execute_result"
        }
      ],
      "source": [
        "'''\n",
        "entry_level can be treated as an ordinal categorical variable with the method 'replace'\n",
        "sex will be also encoded with the method 'replace' as Male=0, Female=1\n",
        "other variables will be encoded using OneHotEncoder\n",
        "'''"
      ]
    },
    {
      "cell_type": "code",
      "execution_count": null,
      "metadata": {
        "id": "1O7MP2bDu-kp",
        "outputId": "ec6d80ef-af3f-499a-e861-29a97862265e"
      },
      "outputs": [
        {
          "data": {
            "text/html": [
              "<div>\n",
              "<style scoped>\n",
              "    .dataframe tbody tr th:only-of-type {\n",
              "        vertical-align: middle;\n",
              "    }\n",
              "\n",
              "    .dataframe tbody tr th {\n",
              "        vertical-align: top;\n",
              "    }\n",
              "\n",
              "    .dataframe thead th {\n",
              "        text-align: right;\n",
              "    }\n",
              "</style>\n",
              "<table border=\"1\" class=\"dataframe\">\n",
              "  <thead>\n",
              "    <tr style=\"text-align: right;\">\n",
              "      <th></th>\n",
              "      <th>age</th>\n",
              "      <th>speciality_years</th>\n",
              "      <th>wing</th>\n",
              "      <th>entry_level</th>\n",
              "      <th>occupation</th>\n",
              "      <th>intervention</th>\n",
              "      <th>ethnicity</th>\n",
              "      <th>sex</th>\n",
              "      <th>hours</th>\n",
              "      <th>country</th>\n",
              "    </tr>\n",
              "  </thead>\n",
              "  <tbody>\n",
              "    <tr>\n",
              "      <td>0</td>\n",
              "      <td>34</td>\n",
              "      <td>2</td>\n",
              "      <td>W</td>\n",
              "      <td>2</td>\n",
              "      <td>ER doctors</td>\n",
              "      <td>Therapeutic</td>\n",
              "      <td>White</td>\n",
              "      <td>Male</td>\n",
              "      <td>44</td>\n",
              "      <td>Mexico</td>\n",
              "    </tr>\n",
              "    <tr>\n",
              "      <td>1</td>\n",
              "      <td>59</td>\n",
              "      <td>12</td>\n",
              "      <td>W</td>\n",
              "      <td>2</td>\n",
              "      <td>Therapist</td>\n",
              "      <td>Therapeutic</td>\n",
              "      <td>White</td>\n",
              "      <td>Male</td>\n",
              "      <td>55</td>\n",
              "      <td>United-States</td>\n",
              "    </tr>\n",
              "    <tr>\n",
              "      <td>2</td>\n",
              "      <td>64</td>\n",
              "      <td>10</td>\n",
              "      <td>S</td>\n",
              "      <td>4</td>\n",
              "      <td>Patient</td>\n",
              "      <td>Other</td>\n",
              "      <td>Black</td>\n",
              "      <td>Male</td>\n",
              "      <td>44</td>\n",
              "      <td>United-States</td>\n",
              "    </tr>\n",
              "    <tr>\n",
              "      <td>3</td>\n",
              "      <td>61</td>\n",
              "      <td>12</td>\n",
              "      <td>W</td>\n",
              "      <td>2</td>\n",
              "      <td>Patient</td>\n",
              "      <td>Therapeutic</td>\n",
              "      <td>Black</td>\n",
              "      <td>Male</td>\n",
              "      <td>55</td>\n",
              "      <td>United-States</td>\n",
              "    </tr>\n",
              "    <tr>\n",
              "      <td>4</td>\n",
              "      <td>33</td>\n",
              "      <td>10</td>\n",
              "      <td>W</td>\n",
              "      <td>2</td>\n",
              "      <td>Surgeons</td>\n",
              "      <td>Therapeutic</td>\n",
              "      <td>White</td>\n",
              "      <td>Male</td>\n",
              "      <td>77</td>\n",
              "      <td>United-States</td>\n",
              "    </tr>\n",
              "  </tbody>\n",
              "</table>\n",
              "</div>"
            ],
            "text/plain": [
              "   age  speciality_years wing  entry_level  occupation intervention ethnicity  \\\n",
              "0   34                 2    W            2  ER doctors  Therapeutic     White   \n",
              "1   59                12    W            2   Therapist  Therapeutic     White   \n",
              "2   64                10    S            4     Patient        Other     Black   \n",
              "3   61                12    W            2     Patient  Therapeutic     Black   \n",
              "4   33                10    W            2    Surgeons  Therapeutic     White   \n",
              "\n",
              "     sex  hours         country  \n",
              "0   Male     44          Mexico  \n",
              "1   Male     55   United-States  \n",
              "2   Male     44   United-States  \n",
              "3   Male     55   United-States  \n",
              "4   Male     77   United-States  "
            ]
          },
          "execution_count": 27,
          "metadata": {},
          "output_type": "execute_result"
        }
      ],
      "source": [
        "#encoding entry_level\n",
        "X_numerical=X.copy()\n",
        "replace_map_entrylvl = {'entry_level': {'minor': 1, 'minor-medium':2, 'medium':3, 'medium-high': 4, 'high': 5}}\n",
        "X_numerical.replace(replace_map_entrylvl, inplace=True)\n",
        "X_numerical.head()"
      ]
    },
    {
      "cell_type": "code",
      "execution_count": null,
      "metadata": {
        "id": "3DPvtItiu-kp"
      },
      "outputs": [],
      "source": [
        "numerical = numerical.append(pd.Index(['entry_level'])) #adding entry level to the numerical index\n",
        "cat_list=categorical.drop(['entry_level']) #dropping entry level from categorical attributes index"
      ]
    },
    {
      "cell_type": "code",
      "execution_count": null,
      "metadata": {
        "id": "oTaE5MNsu-kp",
        "outputId": "6a5a8094-37c4-462e-c879-a263e6105129"
      },
      "outputs": [
        {
          "data": {
            "text/html": [
              "<div>\n",
              "<style scoped>\n",
              "    .dataframe tbody tr th:only-of-type {\n",
              "        vertical-align: middle;\n",
              "    }\n",
              "\n",
              "    .dataframe tbody tr th {\n",
              "        vertical-align: top;\n",
              "    }\n",
              "\n",
              "    .dataframe thead th {\n",
              "        text-align: right;\n",
              "    }\n",
              "</style>\n",
              "<table border=\"1\" class=\"dataframe\">\n",
              "  <thead>\n",
              "    <tr style=\"text-align: right;\">\n",
              "      <th></th>\n",
              "      <th>age</th>\n",
              "      <th>speciality_years</th>\n",
              "      <th>wing</th>\n",
              "      <th>entry_level</th>\n",
              "      <th>occupation</th>\n",
              "      <th>intervention</th>\n",
              "      <th>ethnicity</th>\n",
              "      <th>sex</th>\n",
              "      <th>hours</th>\n",
              "      <th>country</th>\n",
              "    </tr>\n",
              "  </thead>\n",
              "  <tbody>\n",
              "    <tr>\n",
              "      <td>0</td>\n",
              "      <td>34</td>\n",
              "      <td>2</td>\n",
              "      <td>W</td>\n",
              "      <td>2</td>\n",
              "      <td>ER doctors</td>\n",
              "      <td>Therapeutic</td>\n",
              "      <td>White</td>\n",
              "      <td>0</td>\n",
              "      <td>44</td>\n",
              "      <td>Mexico</td>\n",
              "    </tr>\n",
              "    <tr>\n",
              "      <td>1</td>\n",
              "      <td>59</td>\n",
              "      <td>12</td>\n",
              "      <td>W</td>\n",
              "      <td>2</td>\n",
              "      <td>Therapist</td>\n",
              "      <td>Therapeutic</td>\n",
              "      <td>White</td>\n",
              "      <td>0</td>\n",
              "      <td>55</td>\n",
              "      <td>United-States</td>\n",
              "    </tr>\n",
              "    <tr>\n",
              "      <td>2</td>\n",
              "      <td>64</td>\n",
              "      <td>10</td>\n",
              "      <td>S</td>\n",
              "      <td>4</td>\n",
              "      <td>Patient</td>\n",
              "      <td>Other</td>\n",
              "      <td>Black</td>\n",
              "      <td>0</td>\n",
              "      <td>44</td>\n",
              "      <td>United-States</td>\n",
              "    </tr>\n",
              "    <tr>\n",
              "      <td>3</td>\n",
              "      <td>61</td>\n",
              "      <td>12</td>\n",
              "      <td>W</td>\n",
              "      <td>2</td>\n",
              "      <td>Patient</td>\n",
              "      <td>Therapeutic</td>\n",
              "      <td>Black</td>\n",
              "      <td>0</td>\n",
              "      <td>55</td>\n",
              "      <td>United-States</td>\n",
              "    </tr>\n",
              "    <tr>\n",
              "      <td>4</td>\n",
              "      <td>33</td>\n",
              "      <td>10</td>\n",
              "      <td>W</td>\n",
              "      <td>2</td>\n",
              "      <td>Surgeons</td>\n",
              "      <td>Therapeutic</td>\n",
              "      <td>White</td>\n",
              "      <td>0</td>\n",
              "      <td>77</td>\n",
              "      <td>United-States</td>\n",
              "    </tr>\n",
              "  </tbody>\n",
              "</table>\n",
              "</div>"
            ],
            "text/plain": [
              "   age  speciality_years wing  entry_level  occupation intervention ethnicity  \\\n",
              "0   34                 2    W            2  ER doctors  Therapeutic     White   \n",
              "1   59                12    W            2   Therapist  Therapeutic     White   \n",
              "2   64                10    S            4     Patient        Other     Black   \n",
              "3   61                12    W            2     Patient  Therapeutic     Black   \n",
              "4   33                10    W            2    Surgeons  Therapeutic     White   \n",
              "\n",
              "    sex  hours         country  \n",
              "0     0     44          Mexico  \n",
              "1     0     55   United-States  \n",
              "2     0     44   United-States  \n",
              "3     0     55   United-States  \n",
              "4     0     77   United-States  "
            ]
          },
          "execution_count": 29,
          "metadata": {},
          "output_type": "execute_result"
        }
      ],
      "source": [
        "#encoding sex\n",
        "replace_map_sex = {' sex': {' Male': 0, ' Female':1}}\n",
        "X_numerical.replace(replace_map_sex, inplace=True)\n",
        "X_numerical.head()"
      ]
    },
    {
      "cell_type": "code",
      "execution_count": null,
      "metadata": {
        "id": "0bAufKaTu-kq"
      },
      "outputs": [],
      "source": [
        "#encoding other categorical variables\n",
        "for cl in cat_list:\n",
        "    dummy= pd.get_dummies(X_numerical[cl])\n",
        "    X_numerical=pd.concat([X_numerical,dummy], axis = 1)\n",
        "    X_numerical=X_numerical.drop(cl, axis=1)"
      ]
    },
    {
      "cell_type": "code",
      "execution_count": null,
      "metadata": {
        "id": "ravNuwKmu-kq",
        "outputId": "f6327315-3609-402d-d212-445f00dc4243"
      },
      "outputs": [
        {
          "data": {
            "text/html": [
              "<div>\n",
              "<style scoped>\n",
              "    .dataframe tbody tr th:only-of-type {\n",
              "        vertical-align: middle;\n",
              "    }\n",
              "\n",
              "    .dataframe tbody tr th {\n",
              "        vertical-align: top;\n",
              "    }\n",
              "\n",
              "    .dataframe thead th {\n",
              "        text-align: right;\n",
              "    }\n",
              "</style>\n",
              "<table border=\"1\" class=\"dataframe\">\n",
              "  <thead>\n",
              "    <tr style=\"text-align: right;\">\n",
              "      <th></th>\n",
              "      <th>age</th>\n",
              "      <th>speciality_years</th>\n",
              "      <th>entry_level</th>\n",
              "      <th>hours</th>\n",
              "      <th>N</th>\n",
              "      <th>NE</th>\n",
              "      <th>NW</th>\n",
              "      <th>S</th>\n",
              "      <th>SE</th>\n",
              "      <th>SW</th>\n",
              "      <th>...</th>\n",
              "      <th>Portugal</th>\n",
              "      <th>Puerto-Rico</th>\n",
              "      <th>Scotland</th>\n",
              "      <th>South</th>\n",
              "      <th>Taiwan</th>\n",
              "      <th>Thailand</th>\n",
              "      <th>Trinadad&amp;Tobago</th>\n",
              "      <th>United-States</th>\n",
              "      <th>Vietnam</th>\n",
              "      <th>Yugoslavia</th>\n",
              "    </tr>\n",
              "  </thead>\n",
              "  <tbody>\n",
              "    <tr>\n",
              "      <td>0</td>\n",
              "      <td>34</td>\n",
              "      <td>2</td>\n",
              "      <td>2</td>\n",
              "      <td>44</td>\n",
              "      <td>0</td>\n",
              "      <td>0</td>\n",
              "      <td>0</td>\n",
              "      <td>0</td>\n",
              "      <td>0</td>\n",
              "      <td>0</td>\n",
              "      <td>...</td>\n",
              "      <td>0</td>\n",
              "      <td>0</td>\n",
              "      <td>0</td>\n",
              "      <td>0</td>\n",
              "      <td>0</td>\n",
              "      <td>0</td>\n",
              "      <td>0</td>\n",
              "      <td>0</td>\n",
              "      <td>0</td>\n",
              "      <td>0</td>\n",
              "    </tr>\n",
              "    <tr>\n",
              "      <td>1</td>\n",
              "      <td>59</td>\n",
              "      <td>12</td>\n",
              "      <td>2</td>\n",
              "      <td>55</td>\n",
              "      <td>0</td>\n",
              "      <td>0</td>\n",
              "      <td>0</td>\n",
              "      <td>0</td>\n",
              "      <td>0</td>\n",
              "      <td>0</td>\n",
              "      <td>...</td>\n",
              "      <td>0</td>\n",
              "      <td>0</td>\n",
              "      <td>0</td>\n",
              "      <td>0</td>\n",
              "      <td>0</td>\n",
              "      <td>0</td>\n",
              "      <td>0</td>\n",
              "      <td>1</td>\n",
              "      <td>0</td>\n",
              "      <td>0</td>\n",
              "    </tr>\n",
              "    <tr>\n",
              "      <td>2</td>\n",
              "      <td>64</td>\n",
              "      <td>10</td>\n",
              "      <td>4</td>\n",
              "      <td>44</td>\n",
              "      <td>0</td>\n",
              "      <td>0</td>\n",
              "      <td>0</td>\n",
              "      <td>1</td>\n",
              "      <td>0</td>\n",
              "      <td>0</td>\n",
              "      <td>...</td>\n",
              "      <td>0</td>\n",
              "      <td>0</td>\n",
              "      <td>0</td>\n",
              "      <td>0</td>\n",
              "      <td>0</td>\n",
              "      <td>0</td>\n",
              "      <td>0</td>\n",
              "      <td>1</td>\n",
              "      <td>0</td>\n",
              "      <td>0</td>\n",
              "    </tr>\n",
              "    <tr>\n",
              "      <td>3</td>\n",
              "      <td>61</td>\n",
              "      <td>12</td>\n",
              "      <td>2</td>\n",
              "      <td>55</td>\n",
              "      <td>0</td>\n",
              "      <td>0</td>\n",
              "      <td>0</td>\n",
              "      <td>0</td>\n",
              "      <td>0</td>\n",
              "      <td>0</td>\n",
              "      <td>...</td>\n",
              "      <td>0</td>\n",
              "      <td>0</td>\n",
              "      <td>0</td>\n",
              "      <td>0</td>\n",
              "      <td>0</td>\n",
              "      <td>0</td>\n",
              "      <td>0</td>\n",
              "      <td>1</td>\n",
              "      <td>0</td>\n",
              "      <td>0</td>\n",
              "    </tr>\n",
              "    <tr>\n",
              "      <td>4</td>\n",
              "      <td>33</td>\n",
              "      <td>10</td>\n",
              "      <td>2</td>\n",
              "      <td>77</td>\n",
              "      <td>0</td>\n",
              "      <td>0</td>\n",
              "      <td>0</td>\n",
              "      <td>0</td>\n",
              "      <td>0</td>\n",
              "      <td>0</td>\n",
              "      <td>...</td>\n",
              "      <td>0</td>\n",
              "      <td>0</td>\n",
              "      <td>0</td>\n",
              "      <td>0</td>\n",
              "      <td>0</td>\n",
              "      <td>0</td>\n",
              "      <td>0</td>\n",
              "      <td>1</td>\n",
              "      <td>0</td>\n",
              "      <td>0</td>\n",
              "    </tr>\n",
              "  </tbody>\n",
              "</table>\n",
              "<p>5 rows × 77 columns</p>\n",
              "</div>"
            ],
            "text/plain": [
              "   age  speciality_years  entry_level  hours  N  NE  NW  S  SE  SW  ...  \\\n",
              "0   34                 2            2     44  0   0   0  0   0   0  ...   \n",
              "1   59                12            2     55  0   0   0  0   0   0  ...   \n",
              "2   64                10            4     44  0   0   0  1   0   0  ...   \n",
              "3   61                12            2     55  0   0   0  0   0   0  ...   \n",
              "4   33                10            2     77  0   0   0  0   0   0  ...   \n",
              "\n",
              "    Portugal   Puerto-Rico   Scotland   South   Taiwan   Thailand  \\\n",
              "0          0             0          0       0        0          0   \n",
              "1          0             0          0       0        0          0   \n",
              "2          0             0          0       0        0          0   \n",
              "3          0             0          0       0        0          0   \n",
              "4          0             0          0       0        0          0   \n",
              "\n",
              "    Trinadad&Tobago   United-States   Vietnam   Yugoslavia  \n",
              "0                 0               0         0            0  \n",
              "1                 0               1         0            0  \n",
              "2                 0               1         0            0  \n",
              "3                 0               1         0            0  \n",
              "4                 0               1         0            0  \n",
              "\n",
              "[5 rows x 77 columns]"
            ]
          },
          "metadata": {},
          "output_type": "display_data"
        },
        {
          "name": "stdout",
          "output_type": "stream",
          "text": [
            "(12800, 77)\n"
          ]
        }
      ],
      "source": [
        "#looking at the new numerical dataset\n",
        "display(X_numerical.head())\n",
        "print(X_numerical.shape)"
      ]
    },
    {
      "cell_type": "markdown",
      "metadata": {
        "id": "czGonY5Ju-kq"
      },
      "source": [
        "# Data standardization"
      ]
    },
    {
      "cell_type": "code",
      "execution_count": null,
      "metadata": {
        "id": "9eQALg_0u-kq",
        "outputId": "744cfe35-6c69-4fc6-b72a-b9f0222612b0"
      },
      "outputs": [
        {
          "data": {
            "text/html": [
              "<div>\n",
              "<style scoped>\n",
              "    .dataframe tbody tr th:only-of-type {\n",
              "        vertical-align: middle;\n",
              "    }\n",
              "\n",
              "    .dataframe tbody tr th {\n",
              "        vertical-align: top;\n",
              "    }\n",
              "\n",
              "    .dataframe thead th {\n",
              "        text-align: right;\n",
              "    }\n",
              "</style>\n",
              "<table border=\"1\" class=\"dataframe\">\n",
              "  <thead>\n",
              "    <tr style=\"text-align: right;\">\n",
              "      <th></th>\n",
              "      <th>age</th>\n",
              "      <th>speciality_years</th>\n",
              "      <th>hours</th>\n",
              "      <th>entry_level</th>\n",
              "    </tr>\n",
              "  </thead>\n",
              "  <tbody>\n",
              "    <tr>\n",
              "      <td>0</td>\n",
              "      <td>34</td>\n",
              "      <td>2</td>\n",
              "      <td>44</td>\n",
              "      <td>2</td>\n",
              "    </tr>\n",
              "    <tr>\n",
              "      <td>1</td>\n",
              "      <td>59</td>\n",
              "      <td>12</td>\n",
              "      <td>55</td>\n",
              "      <td>2</td>\n",
              "    </tr>\n",
              "    <tr>\n",
              "      <td>2</td>\n",
              "      <td>64</td>\n",
              "      <td>10</td>\n",
              "      <td>44</td>\n",
              "      <td>4</td>\n",
              "    </tr>\n",
              "    <tr>\n",
              "      <td>3</td>\n",
              "      <td>61</td>\n",
              "      <td>12</td>\n",
              "      <td>55</td>\n",
              "      <td>2</td>\n",
              "    </tr>\n",
              "    <tr>\n",
              "      <td>4</td>\n",
              "      <td>33</td>\n",
              "      <td>10</td>\n",
              "      <td>77</td>\n",
              "      <td>2</td>\n",
              "    </tr>\n",
              "  </tbody>\n",
              "</table>\n",
              "</div>"
            ],
            "text/plain": [
              "   age  speciality_years  hours  entry_level\n",
              "0   34                 2     44            2\n",
              "1   59                12     55            2\n",
              "2   64                10     44            4\n",
              "3   61                12     55            2\n",
              "4   33                10     77            2"
            ]
          },
          "metadata": {},
          "output_type": "display_data"
        }
      ],
      "source": [
        "#divisionof the dataset in numerical data and encoded categorical data in order to perform scaling \n",
        "X_to_scale=X_numerical[numerical].copy() #X_to_scale = dataframe of numerical data in need of scaling\n",
        "display(X_to_scale.head())"
      ]
    },
    {
      "cell_type": "code",
      "execution_count": null,
      "metadata": {
        "id": "VbtUtIfTu-kq",
        "outputId": "675cd897-70ce-40e2-b98e-181f36068356"
      },
      "outputs": [
        {
          "data": {
            "text/html": [
              "<div>\n",
              "<style scoped>\n",
              "    .dataframe tbody tr th:only-of-type {\n",
              "        vertical-align: middle;\n",
              "    }\n",
              "\n",
              "    .dataframe tbody tr th {\n",
              "        vertical-align: top;\n",
              "    }\n",
              "\n",
              "    .dataframe thead th {\n",
              "        text-align: right;\n",
              "    }\n",
              "</style>\n",
              "<table border=\"1\" class=\"dataframe\">\n",
              "  <thead>\n",
              "    <tr style=\"text-align: right;\">\n",
              "      <th></th>\n",
              "      <th>age</th>\n",
              "      <th>speciality_years</th>\n",
              "      <th>hours</th>\n",
              "      <th>entry_level</th>\n",
              "    </tr>\n",
              "  </thead>\n",
              "  <tbody>\n",
              "    <tr>\n",
              "      <td>0</td>\n",
              "      <td>-0.650014</td>\n",
              "      <td>-3.222081</td>\n",
              "      <td>-0.153197</td>\n",
              "      <td>-0.152017</td>\n",
              "    </tr>\n",
              "    <tr>\n",
              "      <td>1</td>\n",
              "      <td>1.133840</td>\n",
              "      <td>-0.026266</td>\n",
              "      <td>0.688861</td>\n",
              "      <td>-0.152017</td>\n",
              "    </tr>\n",
              "    <tr>\n",
              "      <td>2</td>\n",
              "      <td>1.490611</td>\n",
              "      <td>-0.665429</td>\n",
              "      <td>-0.153197</td>\n",
              "      <td>1.487949</td>\n",
              "    </tr>\n",
              "    <tr>\n",
              "      <td>3</td>\n",
              "      <td>1.276549</td>\n",
              "      <td>-0.026266</td>\n",
              "      <td>0.688861</td>\n",
              "      <td>-0.152017</td>\n",
              "    </tr>\n",
              "    <tr>\n",
              "      <td>4</td>\n",
              "      <td>-0.721368</td>\n",
              "      <td>-0.665429</td>\n",
              "      <td>2.372978</td>\n",
              "      <td>-0.152017</td>\n",
              "    </tr>\n",
              "  </tbody>\n",
              "</table>\n",
              "</div>"
            ],
            "text/plain": [
              "        age  speciality_years     hours  entry_level\n",
              "0 -0.650014         -3.222081 -0.153197    -0.152017\n",
              "1  1.133840         -0.026266  0.688861    -0.152017\n",
              "2  1.490611         -0.665429 -0.153197     1.487949\n",
              "3  1.276549         -0.026266  0.688861    -0.152017\n",
              "4 -0.721368         -0.665429  2.372978    -0.152017"
            ]
          },
          "execution_count": 33,
          "metadata": {},
          "output_type": "execute_result"
        }
      ],
      "source": [
        "#importing StandardScaler function\n",
        "from sklearn.preprocessing import StandardScaler\n",
        "\n",
        "#scaling X_to_scale and saving it as a new dataframe X_scaled\n",
        "scaler = StandardScaler().fit(X_to_scale) #creating a scaler fitted to X_to_scale\n",
        "scaled_X=pd.DataFrame(scaler.transform(X_to_scale)) #actual scaling\n",
        "scaled_X.columns= X_to_scale.columns #renaming the columns of the new dataset\n",
        "scaled_X.head()"
      ]
    },
    {
      "cell_type": "code",
      "execution_count": null,
      "metadata": {
        "id": "601fRU63u-kq"
      },
      "outputs": [],
      "source": [
        "#merge the encoded categorical dataframe with the scaled numerical dataframe\n",
        "X_cat=X_numerical.copy()\n",
        "X_cat.drop(['age','speciality_years','hours', 'entry_level'], axis=1, inplace=True)\n",
        "X_new= pd.concat([scaled_X, X_cat], axis=1)"
      ]
    },
    {
      "cell_type": "code",
      "execution_count": null,
      "metadata": {
        "id": "o0sw6K3mu-kr",
        "outputId": "8a259742-f6c9-434e-bdbb-d9c9b256bfe4"
      },
      "outputs": [
        {
          "data": {
            "text/html": [
              "<div>\n",
              "<style scoped>\n",
              "    .dataframe tbody tr th:only-of-type {\n",
              "        vertical-align: middle;\n",
              "    }\n",
              "\n",
              "    .dataframe tbody tr th {\n",
              "        vertical-align: top;\n",
              "    }\n",
              "\n",
              "    .dataframe thead th {\n",
              "        text-align: right;\n",
              "    }\n",
              "</style>\n",
              "<table border=\"1\" class=\"dataframe\">\n",
              "  <thead>\n",
              "    <tr style=\"text-align: right;\">\n",
              "      <th></th>\n",
              "      <th>age</th>\n",
              "      <th>speciality_years</th>\n",
              "      <th>hours</th>\n",
              "      <th>entry_level</th>\n",
              "      <th>N</th>\n",
              "      <th>NE</th>\n",
              "      <th>NW</th>\n",
              "      <th>S</th>\n",
              "      <th>SE</th>\n",
              "      <th>SW</th>\n",
              "      <th>...</th>\n",
              "      <th>Portugal</th>\n",
              "      <th>Puerto-Rico</th>\n",
              "      <th>Scotland</th>\n",
              "      <th>South</th>\n",
              "      <th>Taiwan</th>\n",
              "      <th>Thailand</th>\n",
              "      <th>Trinadad&amp;Tobago</th>\n",
              "      <th>United-States</th>\n",
              "      <th>Vietnam</th>\n",
              "      <th>Yugoslavia</th>\n",
              "    </tr>\n",
              "  </thead>\n",
              "  <tbody>\n",
              "    <tr>\n",
              "      <td>0</td>\n",
              "      <td>-0.650014</td>\n",
              "      <td>-3.222081</td>\n",
              "      <td>-0.153197</td>\n",
              "      <td>-0.152017</td>\n",
              "      <td>0</td>\n",
              "      <td>0</td>\n",
              "      <td>0</td>\n",
              "      <td>0</td>\n",
              "      <td>0</td>\n",
              "      <td>0</td>\n",
              "      <td>...</td>\n",
              "      <td>0</td>\n",
              "      <td>0</td>\n",
              "      <td>0</td>\n",
              "      <td>0</td>\n",
              "      <td>0</td>\n",
              "      <td>0</td>\n",
              "      <td>0</td>\n",
              "      <td>0</td>\n",
              "      <td>0</td>\n",
              "      <td>0</td>\n",
              "    </tr>\n",
              "    <tr>\n",
              "      <td>1</td>\n",
              "      <td>1.133840</td>\n",
              "      <td>-0.026266</td>\n",
              "      <td>0.688861</td>\n",
              "      <td>-0.152017</td>\n",
              "      <td>0</td>\n",
              "      <td>0</td>\n",
              "      <td>0</td>\n",
              "      <td>0</td>\n",
              "      <td>0</td>\n",
              "      <td>0</td>\n",
              "      <td>...</td>\n",
              "      <td>0</td>\n",
              "      <td>0</td>\n",
              "      <td>0</td>\n",
              "      <td>0</td>\n",
              "      <td>0</td>\n",
              "      <td>0</td>\n",
              "      <td>0</td>\n",
              "      <td>1</td>\n",
              "      <td>0</td>\n",
              "      <td>0</td>\n",
              "    </tr>\n",
              "    <tr>\n",
              "      <td>2</td>\n",
              "      <td>1.490611</td>\n",
              "      <td>-0.665429</td>\n",
              "      <td>-0.153197</td>\n",
              "      <td>1.487949</td>\n",
              "      <td>0</td>\n",
              "      <td>0</td>\n",
              "      <td>0</td>\n",
              "      <td>1</td>\n",
              "      <td>0</td>\n",
              "      <td>0</td>\n",
              "      <td>...</td>\n",
              "      <td>0</td>\n",
              "      <td>0</td>\n",
              "      <td>0</td>\n",
              "      <td>0</td>\n",
              "      <td>0</td>\n",
              "      <td>0</td>\n",
              "      <td>0</td>\n",
              "      <td>1</td>\n",
              "      <td>0</td>\n",
              "      <td>0</td>\n",
              "    </tr>\n",
              "    <tr>\n",
              "      <td>3</td>\n",
              "      <td>1.276549</td>\n",
              "      <td>-0.026266</td>\n",
              "      <td>0.688861</td>\n",
              "      <td>-0.152017</td>\n",
              "      <td>0</td>\n",
              "      <td>0</td>\n",
              "      <td>0</td>\n",
              "      <td>0</td>\n",
              "      <td>0</td>\n",
              "      <td>0</td>\n",
              "      <td>...</td>\n",
              "      <td>0</td>\n",
              "      <td>0</td>\n",
              "      <td>0</td>\n",
              "      <td>0</td>\n",
              "      <td>0</td>\n",
              "      <td>0</td>\n",
              "      <td>0</td>\n",
              "      <td>1</td>\n",
              "      <td>0</td>\n",
              "      <td>0</td>\n",
              "    </tr>\n",
              "    <tr>\n",
              "      <td>4</td>\n",
              "      <td>-0.721368</td>\n",
              "      <td>-0.665429</td>\n",
              "      <td>2.372978</td>\n",
              "      <td>-0.152017</td>\n",
              "      <td>0</td>\n",
              "      <td>0</td>\n",
              "      <td>0</td>\n",
              "      <td>0</td>\n",
              "      <td>0</td>\n",
              "      <td>0</td>\n",
              "      <td>...</td>\n",
              "      <td>0</td>\n",
              "      <td>0</td>\n",
              "      <td>0</td>\n",
              "      <td>0</td>\n",
              "      <td>0</td>\n",
              "      <td>0</td>\n",
              "      <td>0</td>\n",
              "      <td>1</td>\n",
              "      <td>0</td>\n",
              "      <td>0</td>\n",
              "    </tr>\n",
              "  </tbody>\n",
              "</table>\n",
              "<p>5 rows × 77 columns</p>\n",
              "</div>"
            ],
            "text/plain": [
              "        age  speciality_years     hours  entry_level  N  NE  NW  S  SE  SW  \\\n",
              "0 -0.650014         -3.222081 -0.153197    -0.152017  0   0   0  0   0   0   \n",
              "1  1.133840         -0.026266  0.688861    -0.152017  0   0   0  0   0   0   \n",
              "2  1.490611         -0.665429 -0.153197     1.487949  0   0   0  1   0   0   \n",
              "3  1.276549         -0.026266  0.688861    -0.152017  0   0   0  0   0   0   \n",
              "4 -0.721368         -0.665429  2.372978    -0.152017  0   0   0  0   0   0   \n",
              "\n",
              "   ...   Portugal   Puerto-Rico   Scotland   South   Taiwan   Thailand  \\\n",
              "0  ...          0             0          0       0        0          0   \n",
              "1  ...          0             0          0       0        0          0   \n",
              "2  ...          0             0          0       0        0          0   \n",
              "3  ...          0             0          0       0        0          0   \n",
              "4  ...          0             0          0       0        0          0   \n",
              "\n",
              "    Trinadad&Tobago   United-States   Vietnam   Yugoslavia  \n",
              "0                 0               0         0            0  \n",
              "1                 0               1         0            0  \n",
              "2                 0               1         0            0  \n",
              "3                 0               1         0            0  \n",
              "4                 0               1         0            0  \n",
              "\n",
              "[5 rows x 77 columns]"
            ]
          },
          "execution_count": 35,
          "metadata": {},
          "output_type": "execute_result"
        }
      ],
      "source": [
        "X_new.head()"
      ]
    },
    {
      "cell_type": "markdown",
      "metadata": {
        "id": "5r5er760u-kr"
      },
      "source": [
        "## Plotting numerical variables"
      ]
    },
    {
      "cell_type": "code",
      "execution_count": null,
      "metadata": {
        "id": "Uk1zRgOhu-kr",
        "outputId": "5b3bb2af-86d9-4c06-d2ae-748f830d9bb7"
      },
      "outputs": [
        {
          "data": {
            "image/png": "[encoded data removed]",
            "text/plain": [
              "<Figure size 432x288 with 1 Axes>"
            ]
          },
          "metadata": {
            "needs_background": "light"
          },
          "output_type": "display_data"
        }
      ],
      "source": [
        "#plot of numerical data before scaling\n",
        "X_to_scale.boxplot()\n",
        "plt.title('Numerical data before scaling')\n",
        "plt.show()"
      ]
    },
    {
      "cell_type": "code",
      "execution_count": null,
      "metadata": {
        "id": "osUyiTPpu-kr",
        "outputId": "a9430e17-f8fa-4e1c-ec11-e1d2b77fe3d6"
      },
      "outputs": [
        {
          "data": {
            "image/png": "[encoded data removed]",
            "text/plain": [
              "<Figure size 432x288 with 1 Axes>"
            ]
          },
          "metadata": {
            "needs_background": "light"
          },
          "output_type": "display_data"
        }
      ],
      "source": [
        "#plot of numerical data after scaling\n",
        "scaled_X.boxplot()\n",
        "plt.title('Numerical data after scaling')\n",
        "plt.show()"
      ]
    },
    {
      "cell_type": "markdown",
      "metadata": {
        "id": "1rnsGFwTu-kr"
      },
      "source": [
        "# Dataset division"
      ]
    },
    {
      "cell_type": "code",
      "execution_count": null,
      "metadata": {
        "id": "Xko46yuMu-kr",
        "outputId": "ac8a4abc-b6da-41f5-d77b-82ddf248e85d"
      },
      "outputs": [
        {
          "name": "stdout",
          "output_type": "stream",
          "text": [
            "(8960, 77) (3840, 77)\n",
            "(8960,) (3840,)\n"
          ]
        }
      ],
      "source": [
        "#importing train_test_split_function\n",
        "from sklearn.model_selection import train_test_split\n",
        "\n",
        "#Splitting data in train and test sets with a % of 70% and 30% respectively\n",
        "X_train, X_test, y_train, y_test = train_test_split(X_new, y, test_size =0.30, random_state=123) \n",
        "\n",
        "print(X_train.shape, X_test.shape)\n",
        "print(y_train.shape, y_test.shape)"
      ]
    },
    {
      "cell_type": "code",
      "execution_count": null,
      "metadata": {
        "id": "-DIJK0rhu-kr",
        "outputId": "53daafe4-44d0-429b-ed8e-006ca24253a0"
      },
      "outputs": [
        {
          "data": {
            "image/png": "[encoded data removed]",
            "text/plain": [
              "<Figure size 432x288 with 1 Axes>"
            ]
          },
          "metadata": {
            "needs_background": "light"
          },
          "output_type": "display_data"
        }
      ],
      "source": [
        "#plotting the distribution of the target class between the train and test set to evaluate the 0 and 1 distribution\n",
        "y_train_dist=y_train.groupby(y_train.iloc[:]).size()/y_train.size\n",
        "y_test_dist=y_test.groupby(y_test.iloc[:]).size()/y_test.size\n",
        "\n",
        "train_test_dist = pd.DataFrame({'train': y_train_dist, 'test': y_test_dist})\n",
        "ax = train_test_dist.plot.bar(rot=0) # rotation of the labels\n",
        "plt.title('Distribution of target classes between train and test set')\n",
        "plt.show()"
      ]
    },
    {
      "cell_type": "markdown",
      "metadata": {
        "id": "mebrixdOu-ks"
      },
      "source": [
        "# Classification"
      ]
    },
    {
      "cell_type": "code",
      "execution_count": null,
      "metadata": {
        "id": "d81XGyHgu-kv"
      },
      "outputs": [],
      "source": [
        "#importing classifcation algorithms from sklearn\n",
        "from sklearn.naive_bayes import GaussianNB\n",
        "from sklearn.neighbors import KNeighborsClassifier\n",
        "from sklearn.tree import DecisionTreeClassifier\n",
        "from sklearn.linear_model import LogisticRegression\n",
        "from sklearn.neural_network import MLPClassifier\n",
        "from sklearn.svm import SVC\n",
        "from sklearn.model_selection import GridSearchCV\n",
        "  \n",
        "#MLPerceptron\n",
        "mlp=MLPClassifier()\n",
        "    \n",
        "#Logistic Regression \n",
        "log = LogisticRegression(solver='lbfgs', max_iter=300)\n",
        "\n",
        "#KNearestNeighborsClassifier \n",
        "knn = KNeighborsClassifier()\n",
        "\n",
        "#SVC\n",
        "svm = SVC()\n",
        "\n",
        "#GaussianNaiveBayes \n",
        "gauss = GaussianNB()\n",
        "\n",
        "#DecisionTreeClassifier \n",
        "tree = DecisionTreeClassifier()"
      ]
    },
    {
      "cell_type": "markdown",
      "metadata": {
        "id": "8K_jG63Ju-kw"
      },
      "source": [
        "## Gridsearch to find the best parameters for each model"
      ]
    },
    {
      "cell_type": "code",
      "execution_count": null,
      "metadata": {
        "id": "uRBZr1uSu-kw"
      },
      "outputs": [],
      "source": [
        "#definition of a gridsearch function with X_train,y_train, classifier, parameters as inputs and the fitted gridsearchs\n",
        "# asthe output\n",
        "def gridsearch(X_train,y_train, classifier, parameters): \n",
        "    gs = GridSearchCV(classifier, parameters, cv=3, scoring = 'f1', verbose=50, n_jobs=-1, refit=True) #score based on f1\n",
        "    gs = gs.fit(X_train, y_train)\n",
        "    \n",
        "    #printing the best parameters and the best f1 score\n",
        "    print('******GRIDSEARCH RESULTS******')\n",
        "    print(\"Best score: %f with %s parameters\" % (gs.best_score_, gs.best_params_))\n",
        "    \n",
        "    means = gs.cv_results_['mean_test_score'] #storing the mean of the test score \n",
        "    \n",
        "    #plotting the mean of the test score\n",
        "    plt.plot (means, color='red', alpha=1.00)\n",
        "    plt.show()\n",
        "    \n",
        "    return gs #returns the fitted classifier - the best model will be gs.best_estimator_\n",
        "\n",
        "#creating a dictionary to store the best f1 score of each method for comparison purpose\n",
        "best_sc={}"
      ]
    },
    {
      "cell_type": "markdown",
      "metadata": {
        "id": "NWViW-ECu-kw"
      },
      "source": [
        "## Logistic regression"
      ]
    },
    {
      "cell_type": "code",
      "execution_count": null,
      "metadata": {
        "id": "IY5w3Ya5u-kw",
        "outputId": "cdad8de7-c1b8-4e1e-fa7b-8231bb8928b0"
      },
      "outputs": [
        {
          "name": "stdout",
          "output_type": "stream",
          "text": [
            "Fitting 3 folds for each of 7 candidates, totalling 21 fits\n",
            "[Parallel(n_jobs=-1)]: Using backend LokyBackend with 4 concurrent workers.\n",
            "[Parallel(n_jobs=-1)]: Done   1 tasks      | elapsed:    6.5s\n",
            "[Parallel(n_jobs=-1)]: Done   2 tasks      | elapsed:    6.5s\n",
            "[Parallel(n_jobs=-1)]: Done   3 tasks      | elapsed:    6.6s\n",
            "[Parallel(n_jobs=-1)]: Done   4 tasks      | elapsed:    6.7s\n",
            "[Parallel(n_jobs=-1)]: Done   5 tasks      | elapsed:    6.7s\n",
            "[Parallel(n_jobs=-1)]: Done   6 tasks      | elapsed:    6.8s\n",
            "[Parallel(n_jobs=-1)]: Done   7 tasks      | elapsed:    7.1s\n",
            "[Parallel(n_jobs=-1)]: Done   8 tasks      | elapsed:    7.1s\n",
            "[Parallel(n_jobs=-1)]: Done   9 tasks      | elapsed:    7.2s\n",
            "[Parallel(n_jobs=-1)]: Done  10 tasks      | elapsed:    7.6s\n",
            "[Parallel(n_jobs=-1)]: Done  11 tasks      | elapsed:    7.8s\n",
            "[Parallel(n_jobs=-1)]: Done  12 tasks      | elapsed:    7.9s\n",
            "[Parallel(n_jobs=-1)]: Done  13 tasks      | elapsed:    8.7s\n",
            "[Parallel(n_jobs=-1)]: Done  14 tasks      | elapsed:    9.1s\n",
            "[Parallel(n_jobs=-1)]: Done  15 out of  21 | elapsed:    9.3s remaining:    3.7s\n",
            "[Parallel(n_jobs=-1)]: Done  16 out of  21 | elapsed:    9.7s remaining:    3.0s\n",
            "[Parallel(n_jobs=-1)]: Done  17 out of  21 | elapsed:   10.4s remaining:    2.4s\n",
            "[Parallel(n_jobs=-1)]: Done  18 out of  21 | elapsed:   10.8s remaining:    1.7s\n",
            "[Parallel(n_jobs=-1)]: Done  19 out of  21 | elapsed:   11.0s remaining:    1.1s\n",
            "[Parallel(n_jobs=-1)]: Done  21 out of  21 | elapsed:   11.6s remaining:    0.0s\n",
            "[Parallel(n_jobs=-1)]: Done  21 out of  21 | elapsed:   11.6s finished\n",
            "******GRIDSEARCH RESULTS******\n",
            "Best score: 0.757619 with {'C': 10, 'max_iter': 500} parameters\n"
          ]
        },
        {
          "data": {
            "image/png": "[encoded data removed]",
            "text/plain": [
              "<Figure size 432x288 with 1 Axes>"
            ]
          },
          "metadata": {
            "needs_background": "light"
          },
          "output_type": "display_data"
        }
      ],
      "source": [
        "#setting the logistic parameters\n",
        "param_log={\"C\":[1e-3,1e-2,1e-1,1,10,100,1000], \"max_iter\":[500]}\n",
        "\n",
        "gs_log = gridsearch(X_train,y_train, log, param_log) #using the gridsearch function\n",
        "best_sc.update({'log':gs_log.best_score_,}) #updating best scores dictionary\n",
        "\n",
        "y_pred_log=gs_log.best_estimator_.predict(X_test) #class prediction for the test set \n",
        "\n",
        "y_pred_train_log=gs_log.best_estimator_.predict(X_train) #class prediction for the train set "
      ]
    },
    {
      "cell_type": "code",
      "execution_count": null,
      "metadata": {
        "id": "hX_u8N_Nu-kx",
        "outputId": "03fe2cef-b574-4f82-c2a7-2bcf4fe95bfb"
      },
      "outputs": [
        {
          "name": "stdout",
          "output_type": "stream",
          "text": [
            "******RESULTS ON TEST SET******\n",
            "f1_score:  0.7475758523615889\n",
            "Accuracy:  0.78984375\n",
            "Recall:  0.7548957675300063 \n",
            "\n",
            "******RESULTS ON TRAIN SET******\n",
            "f1_score:  0.7576189777243308\n",
            "Accuracy:  0.80390625\n",
            "Recall:  0.7684153302527861 \n",
            "\n"
          ]
        }
      ],
      "source": [
        "#importing metrics to evaluate the classifier\n",
        "from sklearn import metrics\n",
        "\n",
        "print('******RESULTS ON TEST SET******')\n",
        "print(\"f1_score: \", metrics.f1_score(y_test, y_pred_log))\n",
        "print(\"Accuracy: \", metrics.accuracy_score(y_test, y_pred_log))\n",
        "print(\"Recall: \", metrics.recall_score(y_test, y_pred_log), \"\\n\")\n",
        "print('******RESULTS ON TRAIN SET******')\n",
        "print(\"f1_score: \", gs_log.best_score_)\n",
        "print(\"Accuracy: \", metrics.accuracy_score(y_train, y_pred_train_log))\n",
        "print(\"Recall: \", metrics.recall_score(y_train, y_pred_train_log), \"\\n\")"
      ]
    },
    {
      "cell_type": "code",
      "execution_count": null,
      "metadata": {
        "id": "8OBUW_Kku-kx",
        "outputId": "a5062ca4-8c74-4619-a12b-5dba359730d1"
      },
      "outputs": [
        {
          "name": "stdout",
          "output_type": "stream",
          "text": [
            "******LR CLASSIFICATION REPORT******\n",
            "              precision    recall  f1-score   support\n",
            "\n",
            "           0       0.83      0.81      0.82      2257\n",
            "           1       0.74      0.75      0.75      1583\n",
            "\n",
            "    accuracy                           0.79      3840\n",
            "   macro avg       0.78      0.78      0.78      3840\n",
            "weighted avg       0.79      0.79      0.79      3840\n",
            "\n",
            "******LR CONFUSION MATRIX******\n",
            "[[1838  419]\n",
            " [ 388 1195]]\n"
          ]
        },
        {
          "data": {
            "image/png": "[encoded data removed]",
            "text/plain": [
              "<Figure size 432x288 with 2 Axes>"
            ]
          },
          "metadata": {
            "needs_background": "light"
          },
          "output_type": "display_data"
        }
      ],
      "source": [
        "#import classification report and confusion matrix to perform further classifier evaluation\n",
        "from sklearn.metrics import classification_report\n",
        "print('******LR CLASSIFICATION REPORT******')\n",
        "print(classification_report(y_test, y_pred_log))\n",
        "\n",
        "from sklearn.metrics import confusion_matrix\n",
        "print('******LR CONFUSION MATRIX******')\n",
        "print(confusion_matrix(y_test, y_pred_log))\n",
        "\n",
        "#plot the confusion matrix\n",
        "sb.heatmap(confusion_matrix(y_test, y_pred_log), annot=True, fmt='d', cmap=\"Greens\", cbar=True);"
      ]
    },
    {
      "cell_type": "code",
      "execution_count": null,
      "metadata": {
        "id": "j9xI030-u-kx",
        "outputId": "6b83bbc5-1147-4dea-9e05-83ec4753c71e"
      },
      "outputs": [
        {
          "data": {
            "image/png": "[encoded data removed]",
            "text/plain": [
              "<Figure size 432x288 with 1 Axes>"
            ]
          },
          "metadata": {
            "needs_background": "light"
          },
          "output_type": "display_data"
        },
        {
          "name": "stdout",
          "output_type": "stream",
          "text": [
            "AUC: 0.88\n"
          ]
        }
      ],
      "source": [
        "#plotting the ROC curve \n",
        "y_probs = gs_log.best_estimator_.predict_proba(X_test) \n",
        "\n",
        "fpr, tpr, thresholds=metrics.roc_curve(y_test,  y_probs[:,1])\n",
        "\n",
        "import matplotlib.pyplot as plt\n",
        "plt.plot(fpr, tpr, label='ROC', color='green')\n",
        "plt.plot([0, 1], [0, 1], color='darkgreen', linestyle='--')\n",
        "plt.xlabel('False Positive Rate')\n",
        "plt.ylabel('True Positive Rate')\n",
        "plt.title('Receiver Operating Characteristic (ROC) Curve')\n",
        "plt.legend()\n",
        "plt.show()\n",
        "\n",
        "auc = metrics.roc_auc_score(y_test, y_probs[:,1]) #area under ROC curve\n",
        "print('AUC: %.2f' % auc)"
      ]
    },
    {
      "cell_type": "markdown",
      "metadata": {
        "id": "N-Y6utWMu-kx"
      },
      "source": [
        "## Support Vector Machine"
      ]
    },
    {
      "cell_type": "code",
      "execution_count": null,
      "metadata": {
        "id": "BvqQXo37u-kx",
        "outputId": "a2848234-4559-4db2-bd43-0c59d6ae720d"
      },
      "outputs": [
        {
          "name": "stdout",
          "output_type": "stream",
          "text": [
            "Fitting 3 folds for each of 12 candidates, totalling 36 fits\n",
            "[Parallel(n_jobs=-1)]: Using backend LokyBackend with 4 concurrent workers.\n",
            "[Parallel(n_jobs=-1)]: Done   1 tasks      | elapsed:   13.2s\n",
            "[Parallel(n_jobs=-1)]: Done   2 tasks      | elapsed:   13.3s\n",
            "[Parallel(n_jobs=-1)]: Done   3 tasks      | elapsed:   13.3s\n",
            "[Parallel(n_jobs=-1)]: Done   4 tasks      | elapsed:   13.4s\n",
            "[Parallel(n_jobs=-1)]: Done   5 tasks      | elapsed:   24.5s\n",
            "[Parallel(n_jobs=-1)]: Done   6 tasks      | elapsed:   24.5s\n",
            "[Parallel(n_jobs=-1)]: Done   7 tasks      | elapsed:   24.6s\n",
            "[Parallel(n_jobs=-1)]: Done   8 tasks      | elapsed:   24.9s\n",
            "[Parallel(n_jobs=-1)]: Done   9 tasks      | elapsed:   35.6s\n",
            "[Parallel(n_jobs=-1)]: Done  10 tasks      | elapsed:   35.7s\n",
            "[Parallel(n_jobs=-1)]: Done  11 tasks      | elapsed:   35.7s\n",
            "[Parallel(n_jobs=-1)]: Done  12 tasks      | elapsed:   36.7s\n",
            "[Parallel(n_jobs=-1)]: Done  13 tasks      | elapsed:   47.0s\n",
            "[Parallel(n_jobs=-1)]: Done  14 tasks      | elapsed:   47.0s\n",
            "[Parallel(n_jobs=-1)]: Done  15 tasks      | elapsed:   47.2s\n",
            "[Parallel(n_jobs=-1)]: Done  16 tasks      | elapsed:   48.0s\n",
            "[Parallel(n_jobs=-1)]: Done  17 tasks      | elapsed:   59.3s\n",
            "[Parallel(n_jobs=-1)]: Done  18 tasks      | elapsed:   59.5s\n",
            "[Parallel(n_jobs=-1)]: Done  19 tasks      | elapsed:  1.0min\n",
            "[Parallel(n_jobs=-1)]: Done  20 tasks      | elapsed:  1.0min\n",
            "[Parallel(n_jobs=-1)]: Done  21 tasks      | elapsed:  1.2min\n",
            "[Parallel(n_jobs=-1)]: Done  22 tasks      | elapsed:  1.2min\n",
            "[Parallel(n_jobs=-1)]: Done  23 tasks      | elapsed:  1.3min\n",
            "[Parallel(n_jobs=-1)]: Done  24 tasks      | elapsed:  1.3min\n",
            "[Parallel(n_jobs=-1)]: Done  25 tasks      | elapsed:  1.4min\n",
            "[Parallel(n_jobs=-1)]: Done  26 tasks      | elapsed:  1.4min\n",
            "[Parallel(n_jobs=-1)]: Done  27 tasks      | elapsed:  1.5min\n",
            "[Parallel(n_jobs=-1)]: Done  28 tasks      | elapsed:  1.6min\n",
            "[Parallel(n_jobs=-1)]: Done  29 tasks      | elapsed:  1.7min\n",
            "[Parallel(n_jobs=-1)]: Done  30 out of  36 | elapsed:  1.7min remaining:   20.6s\n",
            "[Parallel(n_jobs=-1)]: Done  31 out of  36 | elapsed:  1.8min remaining:   16.9s\n",
            "[Parallel(n_jobs=-1)]: Done  32 out of  36 | elapsed:  1.8min remaining:   13.7s\n",
            "[Parallel(n_jobs=-1)]: Done  33 out of  36 | elapsed:  1.9min remaining:   10.5s\n",
            "[Parallel(n_jobs=-1)]: Done  34 out of  36 | elapsed:  2.0min remaining:    6.8s\n",
            "[Parallel(n_jobs=-1)]: Done  36 out of  36 | elapsed:  2.1min remaining:    0.0s\n",
            "[Parallel(n_jobs=-1)]: Done  36 out of  36 | elapsed:  2.1min finished\n",
            "******GRIDSEARCH RESULTS******\n",
            "Best score: 0.758326 with {'C': 0.1, 'gamma': 1e-05, 'kernel': 'linear'} parameters\n"
          ]
        },
        {
          "data": {
            "image/png": "[encoded data removed]",
            "text/plain": [
              "<Figure size 432x288 with 1 Axes>"
            ]
          },
          "metadata": {
            "needs_background": "light"
          },
          "output_type": "display_data"
        }
      ],
      "source": [
        "param_svm={\"kernel\":['linear'], \"C\":[0.01,0.1,1,10],\"gamma\":[1e-5,1e-4,1]} #parameters\n",
        "\n",
        "gs_svm = gridsearch(X_train,y_train, svm, param_svm) #GS function\n",
        "best_sc.update({'svm':gs_svm.best_score_}) #updating best score dict\n",
        "y_pred_svm=gs_svm.best_estimator_.predict(X_test) #prediction on test\n",
        "\n",
        "y_pred_train_svm=gs_svm.best_estimator_.predict(X_train) #prediction on train"
      ]
    },
    {
      "cell_type": "code",
      "execution_count": null,
      "metadata": {
        "id": "osICfvzBu-ky",
        "outputId": "b33e8b51-1c13-4b81-ff19-1c069b9e4018"
      },
      "outputs": [
        {
          "name": "stdout",
          "output_type": "stream",
          "text": [
            "***RESULTS ON TEST SET***\n",
            "f1_score:  0.7476350320415014\n",
            "Accuracy:  0.7846354166666667\n",
            "Recall:  0.7738471257106759 \n",
            "\n",
            "******RESULTS ON TRAIN SET******\n",
            "f1_score:  0.7583257626855895\n",
            "Accuracy:  0.7935267857142857\n",
            "Recall:  0.7879858657243817 \n",
            "\n"
          ]
        }
      ],
      "source": [
        "print('***RESULTS ON TEST SET***')\n",
        "print(\"f1_score: \", metrics.f1_score(y_test, y_pred_svm))\n",
        "print(\"Accuracy: \", metrics.accuracy_score(y_test, y_pred_svm))\n",
        "print(\"Recall: \", metrics.recall_score(y_test, y_pred_svm), \"\\n\")\n",
        "print('******RESULTS ON TRAIN SET******')\n",
        "print(\"f1_score: \", gs_svm.best_score_)\n",
        "print(\"Accuracy: \", metrics.accuracy_score(y_train, y_pred_train_svm))\n",
        "print(\"Recall: \", metrics.recall_score(y_train, y_pred_train_svm), \"\\n\")"
      ]
    },
    {
      "cell_type": "code",
      "execution_count": null,
      "metadata": {
        "id": "PAw1RC-Iu-ky",
        "outputId": "d671290d-743c-41b2-88f6-e5cceea42e3d"
      },
      "outputs": [
        {
          "name": "stdout",
          "output_type": "stream",
          "text": [
            "******SVM CLASSIFICATION REPORT******\n",
            "              precision    recall  f1-score   support\n",
            "\n",
            "           0       0.83      0.79      0.81      2257\n",
            "           1       0.72      0.77      0.75      1583\n",
            "\n",
            "    accuracy                           0.78      3840\n",
            "   macro avg       0.78      0.78      0.78      3840\n",
            "weighted avg       0.79      0.78      0.79      3840\n",
            "\n",
            "******SVM CONFUSION MATRIX******\n",
            "[[1788  469]\n",
            " [ 358 1225]]\n"
          ]
        },
        {
          "data": {
            "image/png": "[encoded data removed]",
            "text/plain": [
              "<Figure size 432x288 with 2 Axes>"
            ]
          },
          "metadata": {
            "needs_background": "light"
          },
          "output_type": "display_data"
        }
      ],
      "source": [
        "#classification report\n",
        "print('******SVM CLASSIFICATION REPORT******')\n",
        "print(classification_report(y_test, y_pred_svm))\n",
        "\n",
        "#confusion matrix\n",
        "print('******SVM CONFUSION MATRIX******')\n",
        "print(confusion_matrix(y_test, y_pred_svm))\n",
        "\n",
        "#plotting confusion matrix\n",
        "sb.heatmap(confusion_matrix(y_test, y_pred_svm), annot=True, fmt='d', cmap=\"Reds\", cbar=True);"
      ]
    },
    {
      "cell_type": "markdown",
      "metadata": {
        "id": "JxS_eUi5u-ky"
      },
      "source": [
        "## KNN"
      ]
    },
    {
      "cell_type": "code",
      "execution_count": null,
      "metadata": {
        "id": "yvp7Rz8Xu-ky",
        "outputId": "12aec75a-ef26-4b0c-c126-4f40655b64d5"
      },
      "outputs": [
        {
          "name": "stdout",
          "output_type": "stream",
          "text": [
            "Fitting 3 folds for each of 99 candidates, totalling 297 fits\n",
            "[Parallel(n_jobs=-1)]: Using backend LokyBackend with 4 concurrent workers.\n",
            "[Parallel(n_jobs=-1)]: Done   1 tasks      | elapsed:    2.5s\n",
            "[Parallel(n_jobs=-1)]: Done   2 tasks      | elapsed:    2.6s\n",
            "[Parallel(n_jobs=-1)]: Done   3 tasks      | elapsed:    2.6s\n",
            "[Parallel(n_jobs=-1)]: Done   4 tasks      | elapsed:    3.0s\n",
            "[Parallel(n_jobs=-1)]: Done   5 tasks      | elapsed:    4.9s\n",
            "[Parallel(n_jobs=-1)]: Done   6 tasks      | elapsed:    5.2s\n",
            "[Parallel(n_jobs=-1)]: Done   7 tasks      | elapsed:    5.4s\n",
            "[Parallel(n_jobs=-1)]: Done   8 tasks      | elapsed:    5.7s\n",
            "[Parallel(n_jobs=-1)]: Done   9 tasks      | elapsed:    7.8s\n",
            "[Parallel(n_jobs=-1)]: Done  10 tasks      | elapsed:    8.4s\n",
            "[Parallel(n_jobs=-1)]: Done  11 tasks      | elapsed:    8.6s\n",
            "[Parallel(n_jobs=-1)]: Done  12 tasks      | elapsed:    8.9s\n",
            "[Parallel(n_jobs=-1)]: Done  13 tasks      | elapsed:   11.4s\n",
            "[Parallel(n_jobs=-1)]: Done  14 tasks      | elapsed:   11.7s\n",
            "[Parallel(n_jobs=-1)]: Done  15 tasks      | elapsed:   11.9s\n",
            "[Parallel(n_jobs=-1)]: Done  16 tasks      | elapsed:   12.8s\n",
            "[Parallel(n_jobs=-1)]: Done  17 tasks      | elapsed:   15.2s\n",
            "[Parallel(n_jobs=-1)]: Done  18 tasks      | elapsed:   15.7s\n",
            "[Parallel(n_jobs=-1)]: Done  19 tasks      | elapsed:   15.9s\n",
            "[Parallel(n_jobs=-1)]: Done  20 tasks      | elapsed:   16.4s\n",
            "[Parallel(n_jobs=-1)]: Done  21 tasks      | elapsed:   18.7s\n",
            "[Parallel(n_jobs=-1)]: Done  22 tasks      | elapsed:   19.2s\n",
            "[Parallel(n_jobs=-1)]: Done  23 tasks      | elapsed:   19.4s\n",
            "[Parallel(n_jobs=-1)]: Done  24 tasks      | elapsed:   20.1s\n",
            "[Parallel(n_jobs=-1)]: Done  25 tasks      | elapsed:   22.4s\n",
            "[Parallel(n_jobs=-1)]: Done  26 tasks      | elapsed:   22.7s\n",
            "[Parallel(n_jobs=-1)]: Done  27 tasks      | elapsed:   23.2s\n",
            "[Parallel(n_jobs=-1)]: Done  28 tasks      | elapsed:   23.9s\n",
            "[Parallel(n_jobs=-1)]: Done  29 tasks      | elapsed:   26.2s\n",
            "[Parallel(n_jobs=-1)]: Done  30 tasks      | elapsed:   26.6s\n",
            "[Parallel(n_jobs=-1)]: Done  31 tasks      | elapsed:   27.2s\n",
            "[Parallel(n_jobs=-1)]: Done  32 tasks      | elapsed:   27.9s\n",
            "[Parallel(n_jobs=-1)]: Done  33 tasks      | elapsed:   30.5s\n",
            "[Parallel(n_jobs=-1)]: Done  34 tasks      | elapsed:   31.0s\n",
            "[Parallel(n_jobs=-1)]: Done  35 tasks      | elapsed:   31.5s\n",
            "[Parallel(n_jobs=-1)]: Done  36 tasks      | elapsed:   32.2s\n",
            "[Parallel(n_jobs=-1)]: Done  37 tasks      | elapsed:   34.5s\n",
            "[Parallel(n_jobs=-1)]: Done  38 tasks      | elapsed:   35.0s\n",
            "[Parallel(n_jobs=-1)]: Done  39 tasks      | elapsed:   35.6s\n",
            "[Parallel(n_jobs=-1)]: Done  40 tasks      | elapsed:   36.3s\n",
            "[Parallel(n_jobs=-1)]: Done  41 tasks      | elapsed:   38.5s\n",
            "[Parallel(n_jobs=-1)]: Done  42 tasks      | elapsed:   39.0s\n",
            "[Parallel(n_jobs=-1)]: Done  43 tasks      | elapsed:   39.7s\n",
            "[Parallel(n_jobs=-1)]: Done  44 tasks      | elapsed:   40.4s\n",
            "[Parallel(n_jobs=-1)]: Done  45 tasks      | elapsed:   42.6s\n",
            "[Parallel(n_jobs=-1)]: Done  46 tasks      | elapsed:   43.1s\n",
            "[Parallel(n_jobs=-1)]: Done  47 tasks      | elapsed:   43.8s\n",
            "[Parallel(n_jobs=-1)]: Done  48 tasks      | elapsed:   44.7s\n",
            "[Parallel(n_jobs=-1)]: Done  49 tasks      | elapsed:   47.3s\n",
            "[Parallel(n_jobs=-1)]: Done  50 tasks      | elapsed:   47.6s\n",
            "[Parallel(n_jobs=-1)]: Done  51 tasks      | elapsed:   48.6s\n",
            "[Parallel(n_jobs=-1)]: Done  52 tasks      | elapsed:   49.3s\n",
            "[Parallel(n_jobs=-1)]: Done  53 tasks      | elapsed:   51.8s\n",
            "[Parallel(n_jobs=-1)]: Done  54 tasks      | elapsed:   52.2s\n",
            "[Parallel(n_jobs=-1)]: Done  55 tasks      | elapsed:   53.3s\n",
            "[Parallel(n_jobs=-1)]: Done  56 tasks      | elapsed:   54.0s\n",
            "[Parallel(n_jobs=-1)]: Done  57 tasks      | elapsed:   56.4s\n",
            "[Parallel(n_jobs=-1)]: Done  58 tasks      | elapsed:   56.9s\n",
            "[Parallel(n_jobs=-1)]: Done  59 tasks      | elapsed:   57.8s\n",
            "[Parallel(n_jobs=-1)]: Done  60 tasks      | elapsed:   58.6s\n",
            "[Parallel(n_jobs=-1)]: Done  61 tasks      | elapsed:  1.0min\n",
            "[Parallel(n_jobs=-1)]: Done  62 tasks      | elapsed:  1.0min\n",
            "[Parallel(n_jobs=-1)]: Done  63 tasks      | elapsed:  1.0min\n",
            "[Parallel(n_jobs=-1)]: Done  64 tasks      | elapsed:  1.1min\n",
            "[Parallel(n_jobs=-1)]: Done  65 tasks      | elapsed:  1.1min\n",
            "[Parallel(n_jobs=-1)]: Done  66 tasks      | elapsed:  1.1min\n",
            "[Parallel(n_jobs=-1)]: Done  67 tasks      | elapsed:  1.1min\n",
            "[Parallel(n_jobs=-1)]: Done  68 tasks      | elapsed:  1.1min\n",
            "[Parallel(n_jobs=-1)]: Done  69 tasks      | elapsed:  1.2min\n",
            "[Parallel(n_jobs=-1)]: Done  70 tasks      | elapsed:  1.2min\n",
            "[Parallel(n_jobs=-1)]: Done  71 tasks      | elapsed:  1.2min\n",
            "[Parallel(n_jobs=-1)]: Done  72 tasks      | elapsed:  1.2min\n",
            "[Parallel(n_jobs=-1)]: Done  73 tasks      | elapsed:  1.3min\n",
            "[Parallel(n_jobs=-1)]: Done  74 tasks      | elapsed:  1.3min\n",
            "[Parallel(n_jobs=-1)]: Done  75 tasks      | elapsed:  1.3min\n",
            "[Parallel(n_jobs=-1)]: Done  76 tasks      | elapsed:  1.3min\n",
            "[Parallel(n_jobs=-1)]: Done  77 tasks      | elapsed:  1.3min\n",
            "[Parallel(n_jobs=-1)]: Done  78 tasks      | elapsed:  1.3min\n",
            "[Parallel(n_jobs=-1)]: Done  79 tasks      | elapsed:  1.4min\n",
            "[Parallel(n_jobs=-1)]: Done  80 tasks      | elapsed:  1.4min\n",
            "[Parallel(n_jobs=-1)]: Done  81 tasks      | elapsed:  1.4min\n",
            "[Parallel(n_jobs=-1)]: Done  82 tasks      | elapsed:  1.4min\n",
            "[Parallel(n_jobs=-1)]: Done  83 tasks      | elapsed:  1.4min\n",
            "[Parallel(n_jobs=-1)]: Done  84 tasks      | elapsed:  1.5min\n",
            "[Parallel(n_jobs=-1)]: Done  85 tasks      | elapsed:  1.5min\n",
            "[Parallel(n_jobs=-1)]: Done  86 tasks      | elapsed:  1.5min\n",
            "[Parallel(n_jobs=-1)]: Done  87 tasks      | elapsed:  1.5min\n",
            "[Parallel(n_jobs=-1)]: Done  88 tasks      | elapsed:  1.5min\n",
            "[Parallel(n_jobs=-1)]: Done  89 tasks      | elapsed:  1.6min\n",
            "[Parallel(n_jobs=-1)]: Done  90 tasks      | elapsed:  1.6min\n",
            "[Parallel(n_jobs=-1)]: Done  91 tasks      | elapsed:  1.6min\n",
            "[Parallel(n_jobs=-1)]: Done  92 tasks      | elapsed:  1.6min\n",
            "[Parallel(n_jobs=-1)]: Done  93 tasks      | elapsed:  1.7min\n",
            "[Parallel(n_jobs=-1)]: Done  94 tasks      | elapsed:  1.7min\n",
            "[Parallel(n_jobs=-1)]: Done  95 tasks      | elapsed:  1.7min\n",
            "[Parallel(n_jobs=-1)]: Done  96 tasks      | elapsed:  1.7min\n",
            "[Parallel(n_jobs=-1)]: Done  97 tasks      | elapsed:  1.8min\n",
            "[Parallel(n_jobs=-1)]: Done  98 tasks      | elapsed:  1.8min\n",
            "[Parallel(n_jobs=-1)]: Done  99 tasks      | elapsed:  1.8min\n",
            "[Parallel(n_jobs=-1)]: Done 100 tasks      | elapsed:  1.8min\n",
            "[Parallel(n_jobs=-1)]: Done 101 tasks      | elapsed:  1.8min\n",
            "[Parallel(n_jobs=-1)]: Done 102 tasks      | elapsed:  1.9min\n",
            "[Parallel(n_jobs=-1)]: Done 103 tasks      | elapsed:  1.9min\n",
            "[Parallel(n_jobs=-1)]: Done 104 tasks      | elapsed:  1.9min\n",
            "[Parallel(n_jobs=-1)]: Done 105 tasks      | elapsed:  1.9min\n",
            "[Parallel(n_jobs=-1)]: Done 106 tasks      | elapsed:  1.9min\n",
            "[Parallel(n_jobs=-1)]: Done 107 tasks      | elapsed:  2.0min\n",
            "[Parallel(n_jobs=-1)]: Done 108 tasks      | elapsed:  2.0min\n",
            "[Parallel(n_jobs=-1)]: Done 109 tasks      | elapsed:  2.0min\n",
            "[Parallel(n_jobs=-1)]: Done 110 tasks      | elapsed:  2.0min\n",
            "[Parallel(n_jobs=-1)]: Done 111 tasks      | elapsed:  2.1min\n",
            "[Parallel(n_jobs=-1)]: Done 112 tasks      | elapsed:  2.1min\n",
            "[Parallel(n_jobs=-1)]: Done 113 tasks      | elapsed:  2.1min\n",
            "[Parallel(n_jobs=-1)]: Done 114 tasks      | elapsed:  2.1min\n",
            "[Parallel(n_jobs=-1)]: Done 115 tasks      | elapsed:  2.1min\n",
            "[Parallel(n_jobs=-1)]: Done 116 tasks      | elapsed:  2.2min\n",
            "[Parallel(n_jobs=-1)]: Done 117 tasks      | elapsed:  2.2min\n",
            "[Parallel(n_jobs=-1)]: Done 118 tasks      | elapsed:  2.2min\n",
            "[Parallel(n_jobs=-1)]: Done 119 tasks      | elapsed:  2.2min\n",
            "[Parallel(n_jobs=-1)]: Done 120 tasks      | elapsed:  2.2min\n",
            "[Parallel(n_jobs=-1)]: Done 121 tasks      | elapsed:  2.3min\n",
            "[Parallel(n_jobs=-1)]: Done 122 tasks      | elapsed:  2.3min\n",
            "[Parallel(n_jobs=-1)]: Done 123 tasks      | elapsed:  2.3min\n",
            "[Parallel(n_jobs=-1)]: Done 124 tasks      | elapsed:  2.3min\n",
            "[Parallel(n_jobs=-1)]: Done 125 tasks      | elapsed:  2.4min\n",
            "[Parallel(n_jobs=-1)]: Done 126 tasks      | elapsed:  2.4min\n",
            "[Parallel(n_jobs=-1)]: Done 127 tasks      | elapsed:  2.4min\n",
            "[Parallel(n_jobs=-1)]: Done 128 tasks      | elapsed:  2.4min\n",
            "[Parallel(n_jobs=-1)]: Done 129 tasks      | elapsed:  2.5min\n",
            "[Parallel(n_jobs=-1)]: Done 130 tasks      | elapsed:  2.5min\n",
            "[Parallel(n_jobs=-1)]: Done 131 tasks      | elapsed:  2.5min\n",
            "[Parallel(n_jobs=-1)]: Done 132 tasks      | elapsed:  2.5min\n",
            "[Parallel(n_jobs=-1)]: Done 133 tasks      | elapsed:  2.6min\n",
            "[Parallel(n_jobs=-1)]: Done 134 tasks      | elapsed:  2.6min\n",
            "[Parallel(n_jobs=-1)]: Done 135 tasks      | elapsed:  2.6min\n",
            "[Parallel(n_jobs=-1)]: Done 136 tasks      | elapsed:  2.6min\n",
            "[Parallel(n_jobs=-1)]: Done 137 tasks      | elapsed:  2.6min\n",
            "[Parallel(n_jobs=-1)]: Done 138 tasks      | elapsed:  2.7min\n",
            "[Parallel(n_jobs=-1)]: Done 139 tasks      | elapsed:  2.7min\n",
            "[Parallel(n_jobs=-1)]: Done 140 tasks      | elapsed:  2.7min\n",
            "[Parallel(n_jobs=-1)]: Done 141 tasks      | elapsed:  2.7min\n",
            "[Parallel(n_jobs=-1)]: Done 142 tasks      | elapsed:  2.7min\n",
            "[Parallel(n_jobs=-1)]: Done 143 tasks      | elapsed:  2.8min\n",
            "[Parallel(n_jobs=-1)]: Done 144 tasks      | elapsed:  2.8min\n",
            "[Parallel(n_jobs=-1)]: Done 145 tasks      | elapsed:  2.8min\n",
            "[Parallel(n_jobs=-1)]: Done 146 tasks      | elapsed:  2.8min\n",
            "[Parallel(n_jobs=-1)]: Done 147 tasks      | elapsed:  2.9min\n",
            "[Parallel(n_jobs=-1)]: Done 148 tasks      | elapsed:  2.9min\n",
            "[Parallel(n_jobs=-1)]: Done 149 tasks      | elapsed:  2.9min\n",
            "[Parallel(n_jobs=-1)]: Done 150 tasks      | elapsed:  2.9min\n",
            "[Parallel(n_jobs=-1)]: Done 151 tasks      | elapsed:  3.0min\n",
            "[Parallel(n_jobs=-1)]: Done 152 tasks      | elapsed:  3.0min\n",
            "[Parallel(n_jobs=-1)]: Done 153 tasks      | elapsed:  3.0min\n",
            "[Parallel(n_jobs=-1)]: Done 154 tasks      | elapsed:  3.0min\n",
            "[Parallel(n_jobs=-1)]: Done 155 tasks      | elapsed:  3.1min\n",
            "[Parallel(n_jobs=-1)]: Done 156 tasks      | elapsed:  3.1min\n",
            "[Parallel(n_jobs=-1)]: Done 157 tasks      | elapsed:  3.1min\n",
            "[Parallel(n_jobs=-1)]: Done 158 tasks      | elapsed:  3.1min\n",
            "[Parallel(n_jobs=-1)]: Done 159 tasks      | elapsed:  3.2min\n",
            "[Parallel(n_jobs=-1)]: Done 160 tasks      | elapsed:  3.2min\n",
            "[Parallel(n_jobs=-1)]: Done 161 tasks      | elapsed:  3.2min\n",
            "[Parallel(n_jobs=-1)]: Done 162 tasks      | elapsed:  3.2min\n",
            "[Parallel(n_jobs=-1)]: Done 163 tasks      | elapsed:  3.3min\n",
            "[Parallel(n_jobs=-1)]: Done 164 tasks      | elapsed:  3.3min\n",
            "[Parallel(n_jobs=-1)]: Done 165 tasks      | elapsed:  3.3min\n",
            "[Parallel(n_jobs=-1)]: Done 166 tasks      | elapsed:  3.3min\n",
            "[Parallel(n_jobs=-1)]: Done 167 tasks      | elapsed:  3.4min\n",
            "[Parallel(n_jobs=-1)]: Done 168 tasks      | elapsed:  3.4min\n",
            "[Parallel(n_jobs=-1)]: Done 169 tasks      | elapsed:  3.4min\n",
            "[Parallel(n_jobs=-1)]: Done 170 tasks      | elapsed:  3.4min\n",
            "[Parallel(n_jobs=-1)]: Done 171 tasks      | elapsed:  3.5min\n",
            "[Parallel(n_jobs=-1)]: Done 172 tasks      | elapsed:  3.5min\n",
            "[Parallel(n_jobs=-1)]: Done 173 tasks      | elapsed:  3.5min\n",
            "[Parallel(n_jobs=-1)]: Done 174 tasks      | elapsed:  3.5min\n",
            "[Parallel(n_jobs=-1)]: Done 175 tasks      | elapsed:  3.6min\n",
            "[Parallel(n_jobs=-1)]: Done 176 tasks      | elapsed:  3.6min\n",
            "[Parallel(n_jobs=-1)]: Done 177 tasks      | elapsed:  3.6min\n",
            "[Parallel(n_jobs=-1)]: Done 178 tasks      | elapsed:  3.6min\n",
            "[Parallel(n_jobs=-1)]: Done 179 tasks      | elapsed:  3.7min\n",
            "[Parallel(n_jobs=-1)]: Done 180 tasks      | elapsed:  3.7min\n",
            "[Parallel(n_jobs=-1)]: Done 181 tasks      | elapsed:  3.7min\n",
            "[Parallel(n_jobs=-1)]: Done 182 tasks      | elapsed:  3.7min\n",
            "[Parallel(n_jobs=-1)]: Done 183 tasks      | elapsed:  3.8min\n",
            "[Parallel(n_jobs=-1)]: Done 184 tasks      | elapsed:  3.8min\n",
            "[Parallel(n_jobs=-1)]: Done 185 tasks      | elapsed:  3.8min\n",
            "[Parallel(n_jobs=-1)]: Done 186 tasks      | elapsed:  3.8min\n",
            "[Parallel(n_jobs=-1)]: Done 187 tasks      | elapsed:  3.9min\n",
            "[Parallel(n_jobs=-1)]: Done 188 tasks      | elapsed:  3.9min\n",
            "[Parallel(n_jobs=-1)]: Done 189 tasks      | elapsed:  3.9min\n",
            "[Parallel(n_jobs=-1)]: Done 190 tasks      | elapsed:  4.0min\n",
            "[Parallel(n_jobs=-1)]: Done 191 tasks      | elapsed:  4.0min\n",
            "[Parallel(n_jobs=-1)]: Done 192 tasks      | elapsed:  4.0min\n",
            "[Parallel(n_jobs=-1)]: Done 193 tasks      | elapsed:  4.0min\n",
            "[Parallel(n_jobs=-1)]: Done 194 tasks      | elapsed:  4.1min\n",
            "[Parallel(n_jobs=-1)]: Done 195 tasks      | elapsed:  4.1min\n",
            "[Parallel(n_jobs=-1)]: Done 196 tasks      | elapsed:  4.1min\n",
            "[Parallel(n_jobs=-1)]: Done 197 tasks      | elapsed:  4.1min\n",
            "[Parallel(n_jobs=-1)]: Done 198 tasks      | elapsed:  4.2min\n",
            "[Parallel(n_jobs=-1)]: Done 199 tasks      | elapsed:  4.2min\n",
            "[Parallel(n_jobs=-1)]: Done 200 tasks      | elapsed:  4.2min\n",
            "[Parallel(n_jobs=-1)]: Done 201 tasks      | elapsed:  4.2min\n",
            "[Parallel(n_jobs=-1)]: Done 202 tasks      | elapsed:  4.3min\n",
            "[Parallel(n_jobs=-1)]: Done 203 tasks      | elapsed:  4.3min\n",
            "[Parallel(n_jobs=-1)]: Done 204 tasks      | elapsed:  4.3min\n",
            "[Parallel(n_jobs=-1)]: Done 205 tasks      | elapsed:  4.4min\n",
            "[Parallel(n_jobs=-1)]: Done 206 tasks      | elapsed:  4.4min\n",
            "[Parallel(n_jobs=-1)]: Done 207 tasks      | elapsed:  4.4min\n",
            "[Parallel(n_jobs=-1)]: Done 208 tasks      | elapsed:  4.4min\n",
            "[Parallel(n_jobs=-1)]: Done 209 tasks      | elapsed:  4.5min\n",
            "[Parallel(n_jobs=-1)]: Done 210 tasks      | elapsed:  4.5min\n",
            "[Parallel(n_jobs=-1)]: Done 211 tasks      | elapsed:  4.5min\n",
            "[Parallel(n_jobs=-1)]: Done 212 tasks      | elapsed:  4.5min\n",
            "[Parallel(n_jobs=-1)]: Done 213 tasks      | elapsed:  4.6min\n",
            "[Parallel(n_jobs=-1)]: Done 214 tasks      | elapsed:  4.6min\n",
            "[Parallel(n_jobs=-1)]: Done 215 tasks      | elapsed:  4.6min\n",
            "[Parallel(n_jobs=-1)]: Done 216 tasks      | elapsed:  4.6min\n",
            "[Parallel(n_jobs=-1)]: Done 217 tasks      | elapsed:  4.7min\n",
            "[Parallel(n_jobs=-1)]: Done 218 tasks      | elapsed:  4.7min\n",
            "[Parallel(n_jobs=-1)]: Done 219 tasks      | elapsed:  4.7min\n",
            "[Parallel(n_jobs=-1)]: Done 220 tasks      | elapsed:  4.7min\n",
            "[Parallel(n_jobs=-1)]: Done 221 tasks      | elapsed:  4.8min\n",
            "[Parallel(n_jobs=-1)]: Done 222 tasks      | elapsed:  4.8min\n",
            "[Parallel(n_jobs=-1)]: Done 223 tasks      | elapsed:  4.8min\n",
            "[Parallel(n_jobs=-1)]: Done 224 tasks      | elapsed:  4.8min\n",
            "[Parallel(n_jobs=-1)]: Done 225 tasks      | elapsed:  4.9min\n",
            "[Parallel(n_jobs=-1)]: Done 226 tasks      | elapsed:  4.9min\n",
            "[Parallel(n_jobs=-1)]: Done 227 tasks      | elapsed:  4.9min\n",
            "[Parallel(n_jobs=-1)]: Done 228 tasks      | elapsed:  5.0min\n",
            "[Parallel(n_jobs=-1)]: Done 229 tasks      | elapsed:  5.0min\n",
            "[Parallel(n_jobs=-1)]: Done 230 tasks      | elapsed:  5.0min\n",
            "[Parallel(n_jobs=-1)]: Done 231 tasks      | elapsed:  5.0min\n",
            "[Parallel(n_jobs=-1)]: Done 232 tasks      | elapsed:  5.1min\n",
            "[Parallel(n_jobs=-1)]: Done 233 tasks      | elapsed:  5.1min\n",
            "[Parallel(n_jobs=-1)]: Done 234 tasks      | elapsed:  5.1min\n",
            "[Parallel(n_jobs=-1)]: Done 235 tasks      | elapsed:  5.2min\n",
            "[Parallel(n_jobs=-1)]: Done 236 tasks      | elapsed:  5.2min\n",
            "[Parallel(n_jobs=-1)]: Done 237 tasks      | elapsed:  5.3min\n",
            "[Parallel(n_jobs=-1)]: Done 238 tasks      | elapsed:  5.3min\n",
            "[Parallel(n_jobs=-1)]: Done 239 tasks      | elapsed:  5.3min\n",
            "[Parallel(n_jobs=-1)]: Done 240 tasks      | elapsed:  5.3min\n",
            "[Parallel(n_jobs=-1)]: Done 241 tasks      | elapsed:  5.4min\n",
            "[Parallel(n_jobs=-1)]: Done 242 tasks      | elapsed:  5.4min\n",
            "[Parallel(n_jobs=-1)]: Done 243 tasks      | elapsed:  5.4min\n",
            "[Parallel(n_jobs=-1)]: Done 244 tasks      | elapsed:  5.4min\n",
            "[Parallel(n_jobs=-1)]: Done 245 tasks      | elapsed:  5.5min\n",
            "[Parallel(n_jobs=-1)]: Done 246 tasks      | elapsed:  5.5min\n",
            "[Parallel(n_jobs=-1)]: Done 247 tasks      | elapsed:  5.5min\n",
            "[Parallel(n_jobs=-1)]: Done 248 tasks      | elapsed:  5.6min\n",
            "[Parallel(n_jobs=-1)]: Done 249 tasks      | elapsed:  5.6min\n",
            "[Parallel(n_jobs=-1)]: Done 250 tasks      | elapsed:  5.6min\n",
            "[Parallel(n_jobs=-1)]: Done 251 tasks      | elapsed:  5.7min\n",
            "[Parallel(n_jobs=-1)]: Done 252 tasks      | elapsed:  5.7min\n",
            "[Parallel(n_jobs=-1)]: Done 253 tasks      | elapsed:  5.8min\n",
            "[Parallel(n_jobs=-1)]: Done 254 tasks      | elapsed:  5.8min\n",
            "[Parallel(n_jobs=-1)]: Done 255 tasks      | elapsed:  5.8min\n",
            "[Parallel(n_jobs=-1)]: Done 256 tasks      | elapsed:  5.8min\n",
            "[Parallel(n_jobs=-1)]: Done 257 tasks      | elapsed:  5.9min\n",
            "[Parallel(n_jobs=-1)]: Done 258 tasks      | elapsed:  5.9min\n",
            "[Parallel(n_jobs=-1)]: Done 259 tasks      | elapsed:  5.9min\n",
            "[Parallel(n_jobs=-1)]: Done 260 tasks      | elapsed:  6.0min\n",
            "[Parallel(n_jobs=-1)]: Done 261 tasks      | elapsed:  6.0min\n",
            "[Parallel(n_jobs=-1)]: Done 262 tasks      | elapsed:  6.0min\n",
            "[Parallel(n_jobs=-1)]: Done 263 tasks      | elapsed:  6.0min\n",
            "[Parallel(n_jobs=-1)]: Done 264 tasks      | elapsed:  6.1min\n",
            "[Parallel(n_jobs=-1)]: Done 265 tasks      | elapsed:  6.1min\n",
            "[Parallel(n_jobs=-1)]: Done 266 tasks      | elapsed:  6.2min\n",
            "[Parallel(n_jobs=-1)]: Done 267 tasks      | elapsed:  6.2min\n",
            "[Parallel(n_jobs=-1)]: Done 268 tasks      | elapsed:  6.2min\n",
            "[Parallel(n_jobs=-1)]: Done 269 tasks      | elapsed:  6.3min\n",
            "[Parallel(n_jobs=-1)]: Done 270 tasks      | elapsed:  6.3min\n",
            "[Parallel(n_jobs=-1)]: Done 271 tasks      | elapsed:  6.3min\n",
            "[Parallel(n_jobs=-1)]: Done 272 tasks      | elapsed:  6.3min\n",
            "[Parallel(n_jobs=-1)]: Done 273 tasks      | elapsed:  6.4min\n",
            "[Parallel(n_jobs=-1)]: Done 274 tasks      | elapsed:  6.4min\n",
            "[Parallel(n_jobs=-1)]: Done 275 tasks      | elapsed:  6.4min\n",
            "[Parallel(n_jobs=-1)]: Done 276 tasks      | elapsed:  6.5min\n",
            "[Parallel(n_jobs=-1)]: Done 277 tasks      | elapsed:  6.5min\n",
            "[Parallel(n_jobs=-1)]: Done 278 tasks      | elapsed:  6.5min\n",
            "[Parallel(n_jobs=-1)]: Done 279 tasks      | elapsed:  6.5min\n",
            "[Parallel(n_jobs=-1)]: Done 280 tasks      | elapsed:  6.6min\n",
            "[Parallel(n_jobs=-1)]: Done 281 tasks      | elapsed:  6.6min\n",
            "[Parallel(n_jobs=-1)]: Done 282 tasks      | elapsed:  6.6min\n",
            "[Parallel(n_jobs=-1)]: Done 283 tasks      | elapsed:  6.7min\n",
            "[Parallel(n_jobs=-1)]: Done 284 tasks      | elapsed:  6.7min\n",
            "[Parallel(n_jobs=-1)]: Done 285 tasks      | elapsed:  6.7min\n",
            "[Parallel(n_jobs=-1)]: Done 286 tasks      | elapsed:  6.8min\n",
            "[Parallel(n_jobs=-1)]: Done 287 tasks      | elapsed:  6.8min\n",
            "[Parallel(n_jobs=-1)]: Done 288 tasks      | elapsed:  6.8min\n",
            "[Parallel(n_jobs=-1)]: Done 289 tasks      | elapsed:  6.9min\n",
            "[Parallel(n_jobs=-1)]: Done 290 tasks      | elapsed:  6.9min\n",
            "[Parallel(n_jobs=-1)]: Done 297 out of 297 | elapsed:  7.2min finished\n",
            "******GRIDSEARCH RESULTS******\n",
            "Best score: 0.763322 with {'n_neighbors': 95} parameters\n"
          ]
        },
        {
          "data": {
            "image/png": "[encoded data removed]",
            "text/plain": [
              "<Figure size 432x288 with 1 Axes>"
            ]
          },
          "metadata": {
            "needs_background": "light"
          },
          "output_type": "display_data"
        }
      ],
      "source": [
        "param_knn={'n_neighbors':np.array(range(1,100))} #parameters\n",
        "\n",
        "gs_knn = gridsearch(X_train,y_train, knn, param_knn) #GS function\n",
        "best_sc.update({'knn':gs_knn.best_score_}) #updating best score dict\n",
        "y_pred_knn=gs_knn.best_estimator_.predict(X_test) #prediction on test\n",
        "\n",
        "y_pred_train_knn=gs_knn.best_estimator_.predict(X_train) #prediction on train"
      ]
    },
    {
      "cell_type": "code",
      "execution_count": null,
      "metadata": {
        "id": "81nPW_JFu-ky",
        "outputId": "4f2efb40-2f69-4244-a735-d9cae1b37a9a"
      },
      "outputs": [
        {
          "name": "stdout",
          "output_type": "stream",
          "text": [
            "***RESULTS ON TEST SET***\n",
            "f1_score:  0.7531531531531531\n",
            "Accuracy:  0.78984375\n",
            "Recall:  0.7921667719519899 \n",
            "\n",
            "******RESULTS ON TRAIN SET******\n",
            "f1_score:  0.7633215769984445\n",
            "Accuracy:  0.79453125\n",
            "Recall:  0.8162544169611308 \n",
            "\n"
          ]
        }
      ],
      "source": [
        "print('***RESULTS ON TEST SET***')\n",
        "print(\"f1_score: \", metrics.f1_score(y_test, y_pred_knn))\n",
        "print(\"Accuracy: \", metrics.accuracy_score(y_test, y_pred_log))\n",
        "print(\"Recall: \", metrics.recall_score(y_test, y_pred_knn), \"\\n\")\n",
        "print('******RESULTS ON TRAIN SET******')\n",
        "print(\"f1_score: \", gs_knn.best_score_)\n",
        "print(\"Accuracy: \", metrics.accuracy_score(y_train, y_pred_train_knn))\n",
        "print(\"Recall: \", metrics.recall_score(y_train, y_pred_train_knn), \"\\n\")"
      ]
    },
    {
      "cell_type": "code",
      "execution_count": null,
      "metadata": {
        "id": "EwAC9t9ku-ky",
        "outputId": "e58d83f9-e983-49a8-d205-9327eb006842"
      },
      "outputs": [
        {
          "name": "stdout",
          "output_type": "stream",
          "text": [
            "******KNN CLASSIFICATION REPORT******\n",
            "              precision    recall  f1-score   support\n",
            "\n",
            "           0       0.84      0.78      0.81      2257\n",
            "           1       0.72      0.79      0.75      1583\n",
            "\n",
            "    accuracy                           0.79      3840\n",
            "   macro avg       0.78      0.79      0.78      3840\n",
            "weighted avg       0.79      0.79      0.79      3840\n",
            "\n",
            "******KNN CONFUSION MATRIX******\n",
            "[[1764  493]\n",
            " [ 329 1254]]\n"
          ]
        },
        {
          "data": {
            "image/png": "[encoded data removed]",
            "text/plain": [
              "<Figure size 432x288 with 2 Axes>"
            ]
          },
          "metadata": {
            "needs_background": "light"
          },
          "output_type": "display_data"
        }
      ],
      "source": [
        "print('******KNN CLASSIFICATION REPORT******')\n",
        "print(classification_report(y_test, y_pred_knn))\n",
        "\n",
        "print('******KNN CONFUSION MATRIX******')\n",
        "print(confusion_matrix(y_test, y_pred_knn))\n",
        "\n",
        "sb.heatmap(confusion_matrix(y_test, y_pred_knn), annot=True, fmt='d', cmap=\"Blues\", cbar=True)\n",
        "plt.title('KNN')\n",
        "plt.show()"
      ]
    },
    {
      "cell_type": "code",
      "execution_count": null,
      "metadata": {
        "id": "yJ7SFjXFu-kz",
        "outputId": "70ca0bea-d856-4cc5-ac15-27e7e84fc7cb"
      },
      "outputs": [
        {
          "name": "stdout",
          "output_type": "stream",
          "text": [
            "******KNN ROC******\n"
          ]
        },
        {
          "data": {
            "image/png": "[encoded data removed]",
            "text/plain": [
              "<Figure size 432x288 with 1 Axes>"
            ]
          },
          "metadata": {
            "needs_background": "light"
          },
          "output_type": "display_data"
        },
        {
          "name": "stdout",
          "output_type": "stream",
          "text": [
            "AUC: 0.88\n"
          ]
        }
      ],
      "source": [
        "y_probs = gs_knn.best_estimator_.predict_proba(X_test) \n",
        "\n",
        "fpr, tpr, thresholds=metrics.roc_curve(y_test,  y_probs[:,1])\n",
        "print('******KNN ROC******')\n",
        "import matplotlib.pyplot as plt\n",
        "plt.plot(fpr, tpr, label='ROC', color='blue')\n",
        "plt.plot([0, 1], [0, 1], color='blue', linestyle='--')\n",
        "plt.xlabel('False Positive Rate')\n",
        "plt.ylabel('True Positive Rate')\n",
        "plt.title('Receiver Operating Characteristic (ROC) Curve')\n",
        "plt.legend()\n",
        "plt.show()\n",
        "\n",
        "auc = metrics.roc_auc_score(y_test, y_probs[:,1])\n",
        "print('AUC: %.2f' % auc)"
      ]
    },
    {
      "cell_type": "markdown",
      "metadata": {
        "id": "s-DZqaaKu-kz"
      },
      "source": [
        "## Decision tree"
      ]
    },
    {
      "cell_type": "code",
      "execution_count": null,
      "metadata": {
        "id": "7d8aT1vmu-kz",
        "outputId": "cef9cd28-63e3-4e75-c57f-e9511ea35c25"
      },
      "outputs": [
        {
          "name": "stdout",
          "output_type": "stream",
          "text": [
            "Fitting 3 folds for each of 12 candidates, totalling 36 fits\n",
            "[Parallel(n_jobs=-1)]: Using backend LokyBackend with 4 concurrent workers.\n",
            "[Parallel(n_jobs=-1)]: Done   1 tasks      | elapsed:    0.1s\n",
            "[Parallel(n_jobs=-1)]: Done   2 tasks      | elapsed:    0.1s\n",
            "[Parallel(n_jobs=-1)]: Done   3 tasks      | elapsed:    0.1s\n",
            "[Parallel(n_jobs=-1)]: Done   4 tasks      | elapsed:    0.2s\n",
            "[Parallel(n_jobs=-1)]: Done   5 tasks      | elapsed:    0.2s\n",
            "[Parallel(n_jobs=-1)]: Done   6 tasks      | elapsed:    0.3s\n",
            "[Parallel(n_jobs=-1)]: Done   7 tasks      | elapsed:    0.3s\n",
            "[Parallel(n_jobs=-1)]: Done   8 tasks      | elapsed:    0.3s\n",
            "[Parallel(n_jobs=-1)]: Done   9 tasks      | elapsed:    0.4s\n",
            "[Parallel(n_jobs=-1)]: Done  10 tasks      | elapsed:    0.4s\n",
            "[Parallel(n_jobs=-1)]: Done  11 tasks      | elapsed:    0.5s\n",
            "[Parallel(n_jobs=-1)]: Done  12 tasks      | elapsed:    0.6s\n",
            "[Parallel(n_jobs=-1)]: Done  13 tasks      | elapsed:    0.6s\n",
            "[Parallel(n_jobs=-1)]: Done  14 tasks      | elapsed:    0.6s\n",
            "[Parallel(n_jobs=-1)]: Done  15 tasks      | elapsed:    0.7s\n",
            "[Parallel(n_jobs=-1)]: Done  16 tasks      | elapsed:    0.7s\n",
            "[Parallel(n_jobs=-1)]: Done  17 tasks      | elapsed:    0.8s\n",
            "[Parallel(n_jobs=-1)]: Done  18 tasks      | elapsed:    0.8s\n",
            "[Parallel(n_jobs=-1)]: Done  19 tasks      | elapsed:    0.8s\n",
            "[Parallel(n_jobs=-1)]: Done  20 tasks      | elapsed:    0.9s\n",
            "[Parallel(n_jobs=-1)]: Done  21 tasks      | elapsed:    0.9s\n",
            "[Parallel(n_jobs=-1)]: Done  22 tasks      | elapsed:    1.0s\n",
            "[Parallel(n_jobs=-1)]: Done  23 tasks      | elapsed:    1.0s\n",
            "[Parallel(n_jobs=-1)]: Done  24 tasks      | elapsed:    1.0s\n",
            "[Parallel(n_jobs=-1)]: Done  25 tasks      | elapsed:    1.1s\n",
            "[Parallel(n_jobs=-1)]: Done  26 tasks      | elapsed:    1.1s\n",
            "[Parallel(n_jobs=-1)]: Done  27 tasks      | elapsed:    1.2s\n",
            "[Parallel(n_jobs=-1)]: Done  28 tasks      | elapsed:    1.3s\n",
            "[Parallel(n_jobs=-1)]: Done  29 tasks      | elapsed:    1.3s\n",
            "[Parallel(n_jobs=-1)]: Done  30 out of  36 | elapsed:    1.3s remaining:    0.2s\n",
            "[Parallel(n_jobs=-1)]: Done  31 out of  36 | elapsed:    1.4s remaining:    0.1s\n",
            "[Parallel(n_jobs=-1)]: Done  32 out of  36 | elapsed:    1.5s remaining:    0.1s\n",
            "[Parallel(n_jobs=-1)]: Done  33 out of  36 | elapsed:    1.5s remaining:    0.0s\n",
            "[Parallel(n_jobs=-1)]: Done  34 out of  36 | elapsed:    1.6s remaining:    0.0s\n",
            "[Parallel(n_jobs=-1)]: Done  36 out of  36 | elapsed:    1.6s remaining:    0.0s\n",
            "[Parallel(n_jobs=-1)]: Done  36 out of  36 | elapsed:    1.6s finished\n",
            "******GRIDSEARCH RESULTS******\n",
            "Best score: 0.745452 with {'criterion': 'entropy', 'max_depth': 5, 'min_samples_leaf': 2, 'min_samples_split': 10} parameters\n"
          ]
        },
        {
          "data": {
            "image/png": "[encoded data removed]",
            "text/plain": [
              "<Figure size 432x288 with 1 Axes>"
            ]
          },
          "metadata": {
            "needs_background": "light"
          },
          "output_type": "display_data"
        }
      ],
      "source": [
        "param_tree={'criterion': ['entropy','gini'], #parameters\n",
        "              'max_depth': [3,4,5],\n",
        "              'min_samples_split': [5,10],\n",
        "              'min_samples_leaf': [2]}\n",
        "\n",
        "gs_tree = gridsearch(X_train,y_train, tree, param_tree) #GS function\n",
        "best_sc.update({'tree':gs_tree.best_score_}) #updating best score dict\n",
        "y_pred_tree=gs_tree.best_estimator_.predict(X_test) #prediction on test\n",
        "\n",
        "y_pred_train_tree=gs_tree.best_estimator_.predict(X_train) #prediction on train"
      ]
    },
    {
      "cell_type": "code",
      "execution_count": null,
      "metadata": {
        "id": "7WDHYh_Iu-kz",
        "outputId": "1a236e2f-3a96-43e7-b3c5-e94e3177c166"
      },
      "outputs": [
        {
          "name": "stdout",
          "output_type": "stream",
          "text": [
            "***RESULTS ON TEST SET***\n",
            "f1_score:  0.758494031221304\n",
            "Accuracy:  0.79453125\n",
            "Recall:  0.7826910928616551 \n",
            "\n",
            "******RESULTS ON TRAIN SET******\n",
            "f1_score:  0.7454516159705221\n",
            "Accuracy:  0.7933035714285714\n",
            "Recall:  0.7798314759445502 \n",
            "\n"
          ]
        }
      ],
      "source": [
        "print('***RESULTS ON TEST SET***')\n",
        "print(\"f1_score: \", metrics.f1_score(y_test, y_pred_tree))\n",
        "print(\"Accuracy: \", metrics.accuracy_score(y_test, y_pred_tree))\n",
        "print(\"Recall: \", metrics.recall_score(y_test, y_pred_tree), \"\\n\")\n",
        "print('******RESULTS ON TRAIN SET******')\n",
        "print(\"f1_score: \", gs_tree.best_score_)\n",
        "print(\"Accuracy: \", metrics.accuracy_score(y_train, y_pred_train_tree))\n",
        "print(\"Recall: \", metrics.recall_score(y_train, y_pred_train_tree), \"\\n\")"
      ]
    },
    {
      "cell_type": "code",
      "execution_count": null,
      "metadata": {
        "id": "DD6cFt_ru-kz",
        "outputId": "3ec59f96-14ff-4fec-f289-033c735f0976"
      },
      "outputs": [
        {
          "name": "stdout",
          "output_type": "stream",
          "text": [
            "******DECISION TREE CLASSIFICATION REPORT******\n",
            "              precision    recall  f1-score   support\n",
            "\n",
            "           0       0.84      0.80      0.82      2257\n",
            "           1       0.74      0.78      0.76      1583\n",
            "\n",
            "    accuracy                           0.79      3840\n",
            "   macro avg       0.79      0.79      0.79      3840\n",
            "weighted avg       0.80      0.79      0.80      3840\n",
            "\n",
            "******DECISION TREE CONFUSION MATRIX******\n",
            "[[1812  445]\n",
            " [ 344 1239]]\n"
          ]
        },
        {
          "data": {
            "image/png": "[encoded data removed]",
            "text/plain": [
              "<Figure size 432x288 with 1 Axes>"
            ]
          },
          "metadata": {
            "needs_background": "light"
          },
          "output_type": "display_data"
        }
      ],
      "source": [
        "print('******DECISION TREE CLASSIFICATION REPORT******')\n",
        "print(classification_report(y_test, y_pred_tree))\n",
        "\n",
        "print('******DECISION TREE CONFUSION MATRIX******')\n",
        "print(confusion_matrix(y_test, y_pred_tree))\n",
        "\n",
        "sb.heatmap(confusion_matrix(y_test, y_pred_tree), annot=True, fmt='d', cmap=\"Oranges\", cbar=False);"
      ]
    },
    {
      "cell_type": "code",
      "execution_count": null,
      "metadata": {
        "id": "9XRtB9-0u-kz",
        "outputId": "ed49c3fd-58cc-475d-d077-f4f7b7fb5cc4"
      },
      "outputs": [
        {
          "data": {
            "image/png": "[encoded data removed]",
            "text/plain": [
              "<Figure size 432x288 with 1 Axes>"
            ]
          },
          "metadata": {
            "needs_background": "light"
          },
          "output_type": "display_data"
        },
        {
          "name": "stdout",
          "output_type": "stream",
          "text": [
            "AUC: 0.87\n"
          ]
        }
      ],
      "source": [
        "y_probs = gs_tree.best_estimator_.predict_proba(X_test) \n",
        "\n",
        "fpr, tpr, thresholds=metrics.roc_curve(y_test,  y_probs[:,1])\n",
        "\n",
        "import matplotlib.pyplot as plt\n",
        "plt.plot(fpr, tpr, label='ROC', color='orange')\n",
        "plt.plot([0, 1], [0, 1], color='darkorange', linestyle='--')\n",
        "plt.xlabel('False Positive Rate')\n",
        "plt.ylabel('True Positive Rate')\n",
        "plt.title('Receiver Operating Characteristic (ROC) Curve')\n",
        "plt.legend()\n",
        "plt.show()\n",
        "\n",
        "auc = metrics.roc_auc_score(y_test, y_probs[:,1])\n",
        "print('AUC: %.2f' % auc)"
      ]
    },
    {
      "cell_type": "markdown",
      "metadata": {
        "id": "BO0_YLD7u-kz"
      },
      "source": [
        "## ML Perceptron"
      ]
    },
    {
      "cell_type": "code",
      "execution_count": null,
      "metadata": {
        "id": "eXMr0wx7u-k0",
        "outputId": "24b230d2-a09b-4d25-8fc4-cf22068bf7fa"
      },
      "outputs": [
        {
          "name": "stdout",
          "output_type": "stream",
          "text": [
            "Fitting 3 folds for each of 9 candidates, totalling 27 fits\n",
            "[Parallel(n_jobs=-1)]: Using backend LokyBackend with 4 concurrent workers.\n",
            "[Parallel(n_jobs=-1)]: Done   1 tasks      | elapsed:    6.8s\n",
            "[Parallel(n_jobs=-1)]: Done   2 tasks      | elapsed:    7.4s\n",
            "[Parallel(n_jobs=-1)]: Done   3 tasks      | elapsed:    9.8s\n",
            "[Parallel(n_jobs=-1)]: Done   4 tasks      | elapsed:   17.6s\n",
            "[Parallel(n_jobs=-1)]: Done   5 tasks      | elapsed:   18.1s\n",
            "[Parallel(n_jobs=-1)]: Done   6 tasks      | elapsed:   24.3s\n",
            "[Parallel(n_jobs=-1)]: Done   7 tasks      | elapsed:   30.7s\n",
            "[Parallel(n_jobs=-1)]: Done   8 tasks      | elapsed:   36.1s\n",
            "[Parallel(n_jobs=-1)]: Done   9 tasks      | elapsed:   37.0s\n",
            "[Parallel(n_jobs=-1)]: Done  10 tasks      | elapsed:   42.4s\n",
            "[Parallel(n_jobs=-1)]: Done  11 tasks      | elapsed:   45.6s\n",
            "[Parallel(n_jobs=-1)]: Done  12 tasks      | elapsed:   46.8s\n",
            "[Parallel(n_jobs=-1)]: Done  13 tasks      | elapsed:   50.1s\n",
            "[Parallel(n_jobs=-1)]: Done  14 tasks      | elapsed:   57.1s\n",
            "[Parallel(n_jobs=-1)]: Done  15 tasks      | elapsed:  1.0min\n",
            "[Parallel(n_jobs=-1)]: Done  16 tasks      | elapsed:  1.1min\n",
            "[Parallel(n_jobs=-1)]: Done  17 tasks      | elapsed:  1.2min\n",
            "[Parallel(n_jobs=-1)]: Done  18 tasks      | elapsed:  1.3min\n",
            "[Parallel(n_jobs=-1)]: Done  19 tasks      | elapsed:  1.4min\n",
            "[Parallel(n_jobs=-1)]: Done  20 tasks      | elapsed:  1.4min\n",
            "[Parallel(n_jobs=-1)]: Done  21 out of  27 | elapsed:  1.4min remaining:   24.6s\n",
            "[Parallel(n_jobs=-1)]: Done  22 out of  27 | elapsed:  1.5min remaining:   20.9s\n",
            "[Parallel(n_jobs=-1)]: Done  23 out of  27 | elapsed:  1.6min remaining:   16.2s\n",
            "[Parallel(n_jobs=-1)]: Done  24 out of  27 | elapsed:  1.6min remaining:   11.8s\n",
            "[Parallel(n_jobs=-1)]: Done  25 out of  27 | elapsed:  1.7min remaining:    8.1s\n",
            "[Parallel(n_jobs=-1)]: Done  27 out of  27 | elapsed:  2.0min remaining:    0.0s\n",
            "[Parallel(n_jobs=-1)]: Done  27 out of  27 | elapsed:  2.0min finished\n",
            "******GRIDSEARCH RESULTS******\n",
            "Best score: 0.764454 with {'alpha': 0.1, 'hidden_layer_sizes': (5, 2), 'max_iter': 300} parameters\n"
          ]
        },
        {
          "data": {
            "image/png": "[encoded data removed]",
            "text/plain": [
              "<Figure size 432x288 with 1 Axes>"
            ]
          },
          "metadata": {
            "needs_background": "light"
          },
          "output_type": "display_data"
        }
      ],
      "source": [
        "param_mlp={\"hidden_layer_sizes\":[(5, 2),(10,8,5),(100,20)],  \"max_iter\": [300], \"alpha\": [0.00001,0.001,0.1]} #parameters\n",
        "\n",
        "gs_mlp = gridsearch(X_train,y_train, mlp, param_mlp) #GS function\n",
        "best_sc.update({'mlp':gs_mlp.best_score_}) #updating best score dict\n",
        "y_pred_mlp=gs_mlp.best_estimator_.predict(X_test) #prediction on test\n",
        "\n",
        "y_pred_train_mlp=gs_mlp.best_estimator_.predict(X_train) #prediction on train"
      ]
    },
    {
      "cell_type": "code",
      "execution_count": null,
      "metadata": {
        "id": "R71e_HnKu-k0",
        "outputId": "d9ae6927-6616-47d3-d81d-be1c7f8907bc"
      },
      "outputs": [
        {
          "name": "stdout",
          "output_type": "stream",
          "text": [
            "***MLP RESULTS ON TEST SET***\n",
            "f1_score:  0.763430725730443\n",
            "Accuracy:  0.80390625\n",
            "Recall:  0.7675300063171194 \n",
            "\n",
            "******MLP RESULTS ON TRAIN SET******\n",
            "f1_score:  0.7644535857256605\n",
            "Accuracy:  0.8106026785714285\n",
            "Recall:  0.7741234030986681 \n",
            "\n"
          ]
        }
      ],
      "source": [
        "print('***MLP RESULTS ON TEST SET***')\n",
        "print(\"f1_score: \", metrics.f1_score(y_test, y_pred_mlp))\n",
        "print(\"Accuracy: \", metrics.accuracy_score(y_test, y_pred_mlp))\n",
        "print(\"Recall: \", metrics.recall_score(y_test, y_pred_mlp), \"\\n\")\n",
        "print('******MLP RESULTS ON TRAIN SET******')\n",
        "print(\"f1_score: \", gs_mlp.best_score_)\n",
        "print(\"Accuracy: \", metrics.accuracy_score(y_train, y_pred_train_mlp))\n",
        "print(\"Recall: \", metrics.recall_score(y_train, y_pred_train_mlp), \"\\n\")"
      ]
    },
    {
      "cell_type": "code",
      "execution_count": null,
      "metadata": {
        "scrolled": true,
        "id": "Li2n_Y-Du-k0",
        "outputId": "bea4bba1-ee26-403d-b8ed-414c2228b809"
      },
      "outputs": [
        {
          "name": "stdout",
          "output_type": "stream",
          "text": [
            "******MLP CLASSIFICATION REPORT******\n",
            "              precision    recall  f1-score   support\n",
            "\n",
            "           0       0.84      0.83      0.83      2257\n",
            "           1       0.76      0.77      0.76      1583\n",
            "\n",
            "    accuracy                           0.80      3840\n",
            "   macro avg       0.80      0.80      0.80      3840\n",
            "weighted avg       0.80      0.80      0.80      3840\n",
            "\n",
            "******MLP CONFUSION MATRIX******\n",
            "[[1872  385]\n",
            " [ 368 1215]]\n"
          ]
        },
        {
          "data": {
            "image/png": "[encoded data removed]",
            "text/plain": [
              "<Figure size 432x288 with 2 Axes>"
            ]
          },
          "metadata": {
            "needs_background": "light"
          },
          "output_type": "display_data"
        }
      ],
      "source": [
        "print('******MLP CLASSIFICATION REPORT******')\n",
        "print(classification_report(y_test, y_pred_mlp))\n",
        "\n",
        "print('******MLP CONFUSION MATRIX******')\n",
        "print(confusion_matrix(y_test, y_pred_mlp))\n",
        "\n",
        "sb.heatmap(confusion_matrix(y_test, y_pred_mlp), annot=True, fmt='d', cmap=\"Greens\", cbar=True)\n",
        "plt.title('MLP')\n",
        "plt.show()"
      ]
    },
    {
      "cell_type": "code",
      "execution_count": null,
      "metadata": {
        "id": "3HcbIgrou-k0",
        "outputId": "a6a24de9-fa47-4baf-dd23-2fd594ef47ce"
      },
      "outputs": [
        {
          "name": "stdout",
          "output_type": "stream",
          "text": [
            "******MLP ROC******\n"
          ]
        },
        {
          "data": {
            "image/png": "[encoded data removed]",
            "text/plain": [
              "<Figure size 432x288 with 1 Axes>"
            ]
          },
          "metadata": {
            "needs_background": "light"
          },
          "output_type": "display_data"
        },
        {
          "name": "stdout",
          "output_type": "stream",
          "text": [
            "AUC: 0.89\n"
          ]
        }
      ],
      "source": [
        "y_probs = gs_mlp.best_estimator_.predict_proba(X_test) \n",
        "\n",
        "fpr, tpr, thresholds=metrics.roc_curve(y_test,  y_probs[:,1])\n",
        "print('******MLP ROC******')\n",
        "import matplotlib.pyplot as plt\n",
        "plt.plot(fpr, tpr, label='ROC', color='green')\n",
        "plt.plot([0, 1], [0, 1], color='darkgreen', linestyle='--')\n",
        "plt.xlabel('False Positive Rate')\n",
        "plt.ylabel('True Positive Rate')\n",
        "plt.title('Receiver Operating Characteristic (ROC) Curve')\n",
        "plt.legend()\n",
        "plt.show()\n",
        "\n",
        "auc = metrics.roc_auc_score(y_test, y_probs[:,1])\n",
        "print('AUC: %.2f' % auc)"
      ]
    },
    {
      "cell_type": "markdown",
      "metadata": {
        "id": "nTrUvmxPu-k0"
      },
      "source": [
        "## Naive Bayes"
      ]
    },
    {
      "cell_type": "code",
      "execution_count": null,
      "metadata": {
        "id": "r2gs37LCu-k0",
        "outputId": "e6eaa88d-ea4a-4163-80da-262a66e52608"
      },
      "outputs": [
        {
          "name": "stdout",
          "output_type": "stream",
          "text": [
            "***RESULTS ON TEST SET***\n",
            "f1_score:  0.763430725730443\n",
            "Accuracy:  0.5317708333333333\n",
            "Recall:  0.967150979153506 \n",
            "\n",
            "******RESULTS ON TRAIN SET******\n",
            "Accuracy:  0.5357142857142857\n",
            "Recall:  0.972546887741234 \n",
            "\n"
          ]
        }
      ],
      "source": [
        "gauss.fit(X_train, y_train) #fitting gauss\n",
        "y_pred_gauss=gauss.predict(X_test) #prediction\n",
        "best_sc.update({'nvb': metrics.f1_score(y_test, y_pred_mlp)})\n",
        "y_pred_train_gauss=gauss.predict(X_train) #prediction on train\n",
        "\n",
        "print('***RESULTS ON TEST SET***')\n",
        "print(\"f1_score: \", metrics.f1_score(y_test, y_pred_mlp))\n",
        "print(\"Accuracy: \", metrics.accuracy_score(y_test, y_pred_gauss))\n",
        "print(\"Recall: \", metrics.recall_score(y_test, y_pred_gauss), \"\\n\")\n",
        "print('******RESULTS ON TRAIN SET******')\n",
        "print(\"Accuracy: \", metrics.accuracy_score(y_train, y_pred_train_gauss))\n",
        "print(\"Recall: \", metrics.recall_score(y_train, y_pred_train_gauss), \"\\n\")"
      ]
    },
    {
      "cell_type": "code",
      "execution_count": null,
      "metadata": {
        "id": "dAvPj2Diu-k1",
        "outputId": "611fe256-c984-4e7c-9a00-4f0edbf81cab"
      },
      "outputs": [
        {
          "name": "stdout",
          "output_type": "stream",
          "text": [
            "******NVB CLASSIFICATION REPORT******\n",
            "              precision    recall  f1-score   support\n",
            "\n",
            "           0       0.91      0.23      0.36      2257\n",
            "           1       0.47      0.97      0.63      1583\n",
            "\n",
            "    accuracy                           0.53      3840\n",
            "   macro avg       0.69      0.60      0.50      3840\n",
            "weighted avg       0.73      0.53      0.47      3840\n",
            "\n",
            "******NVB CONFUSION MATRIX******\n",
            "[[ 511 1746]\n",
            " [  52 1531]]\n"
          ]
        },
        {
          "data": {
            "image/png": "[encoded data removed]",
            "text/plain": [
              "<Figure size 432x288 with 1 Axes>"
            ]
          },
          "metadata": {
            "needs_background": "light"
          },
          "output_type": "display_data"
        }
      ],
      "source": [
        "print('******NVB CLASSIFICATION REPORT******')\n",
        "print(classification_report(y_test, y_pred_gauss))\n",
        "\n",
        "print('******NVB CONFUSION MATRIX******')\n",
        "print(confusion_matrix(y_test, y_pred_gauss))\n",
        "\n",
        "sb.heatmap(confusion_matrix(y_test, y_pred_gauss), annot=True, fmt='d', cmap=\"Reds\", cbar=False);"
      ]
    },
    {
      "cell_type": "code",
      "execution_count": null,
      "metadata": {
        "id": "Ttp4I3ftu-k1",
        "outputId": "67519daf-4d30-450b-f3b0-a8136d826e94"
      },
      "outputs": [
        {
          "data": {
            "image/png": "[encoded data removed]",
            "text/plain": [
              "<Figure size 432x288 with 1 Axes>"
            ]
          },
          "metadata": {
            "needs_background": "light"
          },
          "output_type": "display_data"
        },
        {
          "name": "stdout",
          "output_type": "stream",
          "text": [
            "AUC: 0.69\n"
          ]
        }
      ],
      "source": [
        "y_probs = gauss.predict_proba(X_test) \n",
        "\n",
        "fpr, tpr, thresholds=metrics.roc_curve(y_test,  y_probs[:,1])\n",
        "\n",
        "import matplotlib.pyplot as plt\n",
        "plt.plot(fpr, tpr, label='ROC', color='red')\n",
        "plt.plot([0, 1], [0, 1], color='darkred', linestyle='--')\n",
        "plt.xlabel('False Positive Rate')\n",
        "plt.ylabel('True Positive Rate')\n",
        "plt.title('Receiver Operating Characteristic (ROC) Curve')\n",
        "plt.legend()\n",
        "plt.show()\n",
        "\n",
        "auc = metrics.roc_auc_score(y_test, y_probs[:,1])\n",
        "print('AUC: %.2f' % auc)"
      ]
    },
    {
      "cell_type": "code",
      "execution_count": null,
      "metadata": {
        "id": "zWPLiqXEu-k1",
        "outputId": "87705593-d6c5-41f4-f08d-824e19e66d1d"
      },
      "outputs": [
        {
          "name": "stdout",
          "output_type": "stream",
          "text": [
            "******BEST F1 SCORE FOR EACH ALGORITHM******\n"
          ]
        },
        {
          "data": {
            "text/plain": [
              "{'log': 0.7576189777243308,\n",
              " 'svm': 0.7583257626855895,\n",
              " 'knn': 0.7633215769984445,\n",
              " 'tree': 0.7454516159705221,\n",
              " 'mlp': 0.7644535857256605,\n",
              " 'nvb': 0.763430725730443}"
            ]
          },
          "metadata": {},
          "output_type": "display_data"
        }
      ],
      "source": [
        "#best scoring all together\n",
        "print('******BEST F1 SCORE FOR EACH ALGORITHM******')\n",
        "display(best_sc)"
      ]
    },
    {
      "cell_type": "markdown",
      "metadata": {
        "id": "G1iplemKu-k1"
      },
      "source": [
        "## Best Model Selection"
      ]
    },
    {
      "cell_type": "code",
      "execution_count": null,
      "metadata": {
        "id": "_uLeZ-GZu-k1"
      },
      "outputs": [],
      "source": [
        "k_neighbors=gs_knn.best_params_['n_neighbors']\n",
        "knn_model = gs_knn.best_estimator_ #creation of the best model"
      ]
    },
    {
      "cell_type": "code",
      "execution_count": null,
      "metadata": {
        "id": "HB0vKJuIu-k1"
      },
      "outputs": [],
      "source": [
        "#y_prediction=knn_model.predict(X_to_test) --> ready to use for classification o a new set of observations"
      ]
    }
  ],
  "metadata": {
    "kernelspec": {
      "display_name": "Python 3",
      "language": "python",
      "name": "python3"
    },
    "language_info": {
      "codemirror_mode": {
        "name": "ipython",
        "version": 3
      },
      "file_extension": ".py",
      "mimetype": "text/x-python",
      "name": "python",
      "nbconvert_exporter": "python",
      "pygments_lexer": "ipython3",
      "version": "3.7.4"
    },
    "colab": {
      "name": "Classification.ipynb",
      "provenance": [],
      "collapsed_sections": [
        "48AvpBPSu-kl",
        "MsngcP-6u-kn",
        "1C9hgduKu-kn",
        "Kvecd6w5u-ko",
        "UDpn-np1u-ko",
        "5r5er760u-kr",
        "8K_jG63Ju-kw",
        "NWViW-ECu-kw",
        "N-Y6utWMu-kx",
        "JxS_eUi5u-ky",
        "s-DZqaaKu-kz",
        "BO0_YLD7u-kz",
        "nTrUvmxPu-k0",
        "G1iplemKu-k1"
      ]
    }
  },
  "nbformat": 4,
  "nbformat_minor": 0
}